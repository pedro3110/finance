{
 "cells": [
  {
   "cell_type": "code",
   "execution_count": 1,
   "metadata": {},
   "outputs": [],
   "source": [
    "import tensorflow as tf\n",
    "import numpy as np"
   ]
  },
  {
   "cell_type": "code",
   "execution_count": 3,
   "metadata": {},
   "outputs": [
    {
     "data": {
      "text/plain": [
       "[4.1968994, [0.3719058, 30.388206, 33.445602, -0.29993924, -89.84526]]"
      ]
     },
     "execution_count": 3,
     "metadata": {},
     "output_type": "execute_result"
    }
   ],
   "source": [
    "def create_geometric_asian_mc_tf_pricer(enable_greeks = True):\n",
    "    tf.reset_default_graph()\n",
    "    \n",
    "    S = tf.placeholder(tf.float32)\n",
    "    K = tf.placeholder(tf.float32)\n",
    "    dt = tf.placeholder(tf.float32)\n",
    "    T = tf.placeholder(tf.float32)\n",
    "    sigma = tf.placeholder(tf.float32)\n",
    "    r = tf.placeholder(tf.float32)\n",
    "    dw = tf.placeholder(tf.float32)\n",
    "    S_T = S * tf.cumprod(tf.exp((r-sigma**2/2)*dt+sigma*tf.sqrt(dt)*dw), axis=1)\n",
    "    \n",
    "    A = tf.pow(tf.reduce_prod(S_T, axis=1), dt/T)\n",
    "    payout = tf.maximum(A - K, 0)\n",
    "    npv = tf.exp(-r*T) * tf.reduce_mean(payout)\n",
    "    \n",
    "    target_calc = [npv]\n",
    "    if enable_greeks:\n",
    "        greeks = tf.gradients(npv, [S, sigma, r, K, T])\n",
    "        target_calc += [greeks]\n",
    "    def pricer(S_0, strike, time_to_expiry, implied_vol, riskfree_rate, seed, n_sims, obs):\n",
    "        if seed != 0:\n",
    "            np.random.seed(seed)\n",
    "        stdnorm_random_variates = np.random.randn(n_sims, obs)\n",
    "        with tf.Session() as sess:\n",
    "            timedelta = time_to_expiry / obs\n",
    "            res = sess.run(target_calc, \n",
    "                           {\n",
    "                               S: S_0,\n",
    "                               K : strike,\n",
    "                               r : riskfree_rate,\n",
    "                               sigma: implied_vol,\n",
    "                               dt : timedelta,\n",
    "                               T: time_to_expiry,\n",
    "                               dw : stdnorm_random_variates\n",
    "                         })\n",
    "            return res\n",
    "    return pricer\n",
    " \n",
    "geom_asian_mc_tf_pricer = create_geometric_asian_mc_tf_pricer()\n",
    "geom_asian_mc_tf_pricer(100, 110, 2, 0.2, 0.03, 1312, 100000, 8)\n"
   ]
  },
  {
   "cell_type": "code",
   "execution_count": null,
   "metadata": {},
   "outputs": [],
   "source": []
  },
  {
   "cell_type": "code",
   "execution_count": 88,
   "metadata": {},
   "outputs": [
    {
     "name": "stdout",
     "output_type": "stream",
     "text": [
      "[[1. 1. 1. 1. 1.]\n",
      " [2. 2. 2. 2. 2.]\n",
      " [3. 3. 3. 3. 3.]]\n",
      "[[1.         0.02579439 0.23407316 0.05970359]\n",
      " [2.         0.4927708  0.06827819 0.9952179 ]\n",
      " [3.         0.59299886 0.31728363 0.5052084 ]\n",
      " [1.         0.12036717 0.3536296  0.88829446]\n",
      " [2.         0.85759056 0.39999855 0.32045054]\n",
      " [3.         0.6603805  0.02178264 0.8374313 ]]\n"
     ]
    }
   ],
   "source": [
    "# 1. Modelo de Vasicek: de equilibrio. Proceso de reversión a la media\n",
    "# 2. Modelo de Jamshidian (Valuación de opciones sobre Bonos)\n",
    "# en lugar de modelar movimiento browniano sobre subyacente modelamos (movimiento con reversión a la media ó movimiento browniano) sobre tasa de interés\n",
    "with tf.Session() as sess:\n",
    "    n_simulations_A = 3\n",
    "    n_simulations_B = 2\n",
    "    n_shocks_A = 5\n",
    "    n_shocks_B = 3\n",
    "    A = tf.constant([[float(i+1) for _ in range(n_shocks_A)] for i in range(n_simulations_A)])\n",
    "    print(A.eval())\n",
    "    \n",
    "    # Acá es el momento de ejercicio de la opción. Empieza incertidumbre condicional\n",
    "    B = tf.reshape(A[:,-1], [n_simulations_A,1])\n",
    "    C1 = tf.tile(B, [n_simulations_B, 1])\n",
    "    C2 = tf.random.uniform([n_simulations_A * n_simulations_B, n_shocks_B], 0, 1, dtype=tf.float32)\n",
    "    C = tf.concat([C1,C2], axis=1)\n",
    "    print(C.eval())\n",
    "    \n",
    "# 3. Modelo de Ho & Lee\n",
    "# "
   ]
  },
  {
   "cell_type": "code",
   "execution_count": 70,
   "metadata": {},
   "outputs": [
    {
     "name": "stdout",
     "output_type": "stream",
     "text": [
      "(16, 7)\n"
     ]
    }
   ],
   "source": [
    "with tf.Session() as sess:\n",
    "    print(C.shape)"
   ]
  },
  {
   "cell_type": "code",
   "execution_count": null,
   "metadata": {},
   "outputs": [],
   "source": []
  },
  {
   "cell_type": "code",
   "execution_count": null,
   "metadata": {},
   "outputs": [],
   "source": []
  },
  {
   "cell_type": "code",
   "execution_count": null,
   "metadata": {},
   "outputs": [],
   "source": []
  }
 ],
 "metadata": {
  "kernelspec": {
   "display_name": "Python 3",
   "language": "python",
   "name": "python3"
  },
  "language_info": {
   "codemirror_mode": {
    "name": "ipython",
    "version": 3
   },
   "file_extension": ".py",
   "mimetype": "text/x-python",
   "name": "python",
   "nbconvert_exporter": "python",
   "pygments_lexer": "ipython3",
   "version": "3.5.2"
  }
 },
 "nbformat": 4,
 "nbformat_minor": 2
}
