{
 "cells": [
  {
   "cell_type": "code",
   "execution_count": 1,
   "metadata": {},
   "outputs": [],
   "source": [
    "import numpy as np\n",
    "from scipy import optimize\n",
    "import pandas as pd\n",
    "from datetime import datetime, timedelta\n",
    "import matplotlib.pyplot as plt\n",
    "import seaborn as sns\n",
    "sns.set()\n",
    "\n",
    "import scipy.optimize\n",
    "\n",
    "from pandas.plotting import register_matplotlib_converters\n",
    "register_matplotlib_converters()\n",
    "\n",
    "from yahoofinancials import YahooFinancials # https://pypi.org/project/yahoofinancials/\n"
   ]
  },
  {
   "cell_type": "code",
   "execution_count": 2,
   "metadata": {},
   "outputs": [],
   "source": [
    "from yahoo_fin import options \n",
    "# http://theautomatic.net/yahoo_fin-documentation/\n",
    "# http://theautomatic.net/category/python/ & http://theautomatic.net/2019/04/17/how-to-get-options-data-with-python/"
   ]
  },
  {
   "cell_type": "code",
   "execution_count": 13,
   "metadata": {},
   "outputs": [
    {
     "data": {
      "text/plain": [
       "3093.08"
      ]
     },
     "execution_count": 13,
     "metadata": {},
     "output_type": "execute_result"
    }
   ],
   "source": [
    "# chain = options.get_options_chain(\"IBM\")\n",
    "yahoo_financials = YahooFinancials('^GSPC')\n",
    "yahoo_financials.get_current_price()"
   ]
  },
  {
   "cell_type": "code",
   "execution_count": 14,
   "metadata": {},
   "outputs": [],
   "source": [
    "from yahoo_fin import stock_info as si\n",
    "stock = options.get_options_chain('^GSPC')"
   ]
  },
  {
   "cell_type": "code",
   "execution_count": 70,
   "metadata": {},
   "outputs": [
    {
     "name": "stdout",
     "output_type": "stream",
     "text": [
      "191220\n"
     ]
    },
    {
     "data": {
      "text/plain": [
       "datetime.date(2019, 12, 20)"
      ]
     },
     "execution_count": 70,
     "metadata": {},
     "output_type": "execute_result"
    }
   ],
   "source": [
    "import re\n",
    "import datetime\n",
    "def get_expiration_date(txt):\n",
    "    x = re.search(\"[^.]*19....\", txt)\n",
    "    if x is None:\n",
    "        return None\n",
    "    x = x.string\n",
    "    print(x)\n",
    "    return datetime.date(int('20' + x[0:1+1]), int(x[2:3+1]), int(x[4:5+1]))\n",
    "\n",
    "get_expiration_date(\"191220\")"
   ]
  },
  {
   "cell_type": "code",
   "execution_count": 71,
   "metadata": {},
   "outputs": [],
   "source": [
    "# get_expiration_date(\"SPX191220C00100000\")"
   ]
  },
  {
   "cell_type": "code",
   "execution_count": 39,
   "metadata": {},
   "outputs": [
    {
     "data": {
      "text/html": [
       "<div>\n",
       "<style scoped>\n",
       "    .dataframe tbody tr th:only-of-type {\n",
       "        vertical-align: middle;\n",
       "    }\n",
       "\n",
       "    .dataframe tbody tr th {\n",
       "        vertical-align: top;\n",
       "    }\n",
       "\n",
       "    .dataframe thead th {\n",
       "        text-align: right;\n",
       "    }\n",
       "</style>\n",
       "<table border=\"1\" class=\"dataframe\">\n",
       "  <thead>\n",
       "    <tr style=\"text-align: right;\">\n",
       "      <th></th>\n",
       "      <th>Contract Name</th>\n",
       "      <th>Last Trade Date</th>\n",
       "      <th>Strike</th>\n",
       "      <th>Last Price</th>\n",
       "      <th>Bid</th>\n",
       "      <th>Ask</th>\n",
       "      <th>Change</th>\n",
       "      <th>% Change</th>\n",
       "      <th>Volume</th>\n",
       "      <th>Open Interest</th>\n",
       "      <th>Implied Volatility</th>\n",
       "      <th>Expiration Date</th>\n",
       "    </tr>\n",
       "  </thead>\n",
       "  <tbody>\n",
       "    <tr>\n",
       "      <th>0</th>\n",
       "      <td>SPX191220C00100000</td>\n",
       "      <td>2019-11-07 10:22AM EST</td>\n",
       "      <td>100.0</td>\n",
       "      <td>2985.33</td>\n",
       "      <td>2981.8</td>\n",
       "      <td>2986.3</td>\n",
       "      <td>0.00</td>\n",
       "      <td>-</td>\n",
       "      <td>27</td>\n",
       "      <td>1492</td>\n",
       "      <td>0.00%</td>\n",
       "      <td>None</td>\n",
       "    </tr>\n",
       "    <tr>\n",
       "      <th>1</th>\n",
       "      <td>SPX191220C00200000</td>\n",
       "      <td>2019-09-10 2:50PM EST</td>\n",
       "      <td>200.0</td>\n",
       "      <td>2755.00</td>\n",
       "      <td>2750.5</td>\n",
       "      <td>2763.7</td>\n",
       "      <td>0.00</td>\n",
       "      <td>-</td>\n",
       "      <td>25</td>\n",
       "      <td>223</td>\n",
       "      <td>0.00%</td>\n",
       "      <td>None</td>\n",
       "    </tr>\n",
       "    <tr>\n",
       "      <th>2</th>\n",
       "      <td>SPX191220C00300000</td>\n",
       "      <td>2019-11-08 1:20PM EST</td>\n",
       "      <td>300.0</td>\n",
       "      <td>2778.53</td>\n",
       "      <td>2782.2</td>\n",
       "      <td>2786.7</td>\n",
       "      <td>108.83</td>\n",
       "      <td>+4.08%</td>\n",
       "      <td>4</td>\n",
       "      <td>173</td>\n",
       "      <td>0.00%</td>\n",
       "      <td>None</td>\n",
       "    </tr>\n",
       "    <tr>\n",
       "      <th>3</th>\n",
       "      <td>SPX191220C00400000</td>\n",
       "      <td>2019-10-31 12:37PM EST</td>\n",
       "      <td>400.0</td>\n",
       "      <td>2621.96</td>\n",
       "      <td>2682.5</td>\n",
       "      <td>2686.9</td>\n",
       "      <td>0.00</td>\n",
       "      <td>-</td>\n",
       "      <td>2</td>\n",
       "      <td>57</td>\n",
       "      <td>0.00%</td>\n",
       "      <td>None</td>\n",
       "    </tr>\n",
       "    <tr>\n",
       "      <th>4</th>\n",
       "      <td>SPX191220C00500000</td>\n",
       "      <td>2019-06-09 11:12PM EST</td>\n",
       "      <td>500.0</td>\n",
       "      <td>1942.00</td>\n",
       "      <td>2437.3</td>\n",
       "      <td>2441.2</td>\n",
       "      <td>0.00</td>\n",
       "      <td>-</td>\n",
       "      <td>0</td>\n",
       "      <td>60</td>\n",
       "      <td>0.00%</td>\n",
       "      <td>None</td>\n",
       "    </tr>\n",
       "  </tbody>\n",
       "</table>\n",
       "</div>"
      ],
      "text/plain": [
       "        Contract Name         Last Trade Date  Strike  Last Price     Bid  \\\n",
       "0  SPX191220C00100000  2019-11-07 10:22AM EST   100.0     2985.33  2981.8   \n",
       "1  SPX191220C00200000   2019-09-10 2:50PM EST   200.0     2755.00  2750.5   \n",
       "2  SPX191220C00300000   2019-11-08 1:20PM EST   300.0     2778.53  2782.2   \n",
       "3  SPX191220C00400000  2019-10-31 12:37PM EST   400.0     2621.96  2682.5   \n",
       "4  SPX191220C00500000  2019-06-09 11:12PM EST   500.0     1942.00  2437.3   \n",
       "\n",
       "      Ask  Change % Change  Volume  Open Interest Implied Volatility  \\\n",
       "0  2986.3    0.00        -      27           1492              0.00%   \n",
       "1  2763.7    0.00        -      25            223              0.00%   \n",
       "2  2786.7  108.83   +4.08%       4            173              0.00%   \n",
       "3  2686.9    0.00        -       2             57              0.00%   \n",
       "4  2441.2    0.00        -       0             60              0.00%   \n",
       "\n",
       "  Expiration Date  \n",
       "0            None  \n",
       "1            None  \n",
       "2            None  \n",
       "3            None  \n",
       "4            None  "
      ]
     },
     "execution_count": 39,
     "metadata": {},
     "output_type": "execute_result"
    }
   ],
   "source": [
    "df = stock['calls']\n",
    "df['Expiration Date'] = df['Contract Name'].apply(lambda x: get_expiration_date(x), 1)\n",
    "df.head()"
   ]
  },
  {
   "cell_type": "markdown",
   "metadata": {},
   "source": [
    "### Experimentation"
   ]
  },
  {
   "cell_type": "code",
   "execution_count": 22,
   "metadata": {},
   "outputs": [],
   "source": [
    "# Parameters\n",
    "S, K, T, r = 299.25, 300.5, 1/365., 0.0181"
   ]
  },
  {
   "cell_type": "code",
   "execution_count": 79,
   "metadata": {},
   "outputs": [
    {
     "data": {
      "text/plain": [
       "Text(0.5, 1.0, 'σ_estimated: 0.06734764057877352')"
      ]
     },
     "execution_count": 79,
     "metadata": {},
     "output_type": "execute_result"
    },
    {
     "data": {
      "image/png": "[encoded data removed]",
      "text/plain": [
       "<Figure size 720x360 with 1 Axes>"
      ]
     },
     "metadata": {},
     "output_type": "display_data"
    }
   ],
   "source": [
    "import bs_tf as bs_tf\n",
    "simple_pricer_function = bs_tf.Pricer.vanilla_2ndgreeks(enable_greeks=True)\n",
    "\n",
    "df = pd.DataFrame(columns=['S','K','T','σ', 'r'])\n",
    "for σ in np.linspace(0., 0.15, 50):\n",
    "    df = pd.concat([df, pd.DataFrame({'S': [S], 'K': [K], 'T': [T], 'σ': [σ], 'r': [r]})])\n",
    "\n",
    "def set_row(row):\n",
    "    res = simple_pricer_function(*row)\n",
    "    return pd.Series([res[0], res[1]])\n",
    "df[['Price', 'Greeks']] = df.apply(set_row , 1)\n",
    "\n",
    "fig, ax = plt.subplots(figsize=(10, 5), ncols=1, nrows=1)\n",
    "sns.scatterplot(data=df, x='σ', y='Price', ax=ax);\n",
    "\n",
    "real_price = 0.063251\n",
    "σ_estimated = scipy.optimize.newton(lambda σ: simple_pricer_function(S,K,T,σ,r)[0] - real_price, 0.06)\n",
    "ax.set_title('σ_estimated: ' + str(σ_estimated)"
   ]
  },
  {
   "cell_type": "code",
   "execution_count": null,
   "metadata": {},
   "outputs": [],
   "source": []
  },
  {
   "cell_type": "code",
   "execution_count": null,
   "metadata": {},
   "outputs": [],
   "source": [
    "\n"
   ]
  },
  {
   "cell_type": "code",
   "execution_count": null,
   "metadata": {},
   "outputs": [],
   "source": []
  },
  {
   "cell_type": "code",
   "execution_count": null,
   "metadata": {},
   "outputs": [],
   "source": []
  },
  {
   "cell_type": "code",
   "execution_count": null,
   "metadata": {},
   "outputs": [],
   "source": []
  },
  {
   "cell_type": "code",
   "execution_count": null,
   "metadata": {},
   "outputs": [],
   "source": []
  }
 ],
 "metadata": {
  "kernelspec": {
   "display_name": "Python 3",
   "language": "python",
   "name": "python3"
  },
  "language_info": {
   "codemirror_mode": {
    "name": "ipython",
    "version": 3
   },
   "file_extension": ".py",
   "mimetype": "text/x-python",
   "name": "python",
   "nbconvert_exporter": "python",
   "pygments_lexer": "ipython3",
   "version": "3.6.5"
  }
 },
 "nbformat": 4,
 "nbformat_minor": 2
}
