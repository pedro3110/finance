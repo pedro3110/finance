{
 "cells": [
  {
   "cell_type": "code",
   "execution_count": 1,
   "metadata": {},
   "outputs": [],
   "source": [
    "import QuantLib as ql\n",
    "import pandas as pd"
   ]
  },
  {
   "cell_type": "code",
   "execution_count": 2,
   "metadata": {},
   "outputs": [],
   "source": [
    "def print_curve(xlist, ylist, precision=3):\n",
    "    \"\"\"\n",
    "    Method to print curve in a nice format\n",
    "    \"\"\"\n",
    "    print (\"----------------------\")\n",
    "    print (\"Maturities\\tCurve\")\n",
    "    print (\"----------------------\")\n",
    "    for x,y in zip(xlist, ylist):\n",
    "        print (x,\"\\t\\t\", round(y, precision))\n",
    "    print (\"----------------------\")\n",
    "    "
   ]
  },
  {
   "cell_type": "code",
   "execution_count": 3,
   "metadata": {},
   "outputs": [
    {
     "name": "stdout",
     "output_type": "stream",
     "text": [
      "----------------------\n",
      "Maturities\tCurve\n",
      "----------------------\n",
      "6M \t\t 5.25\n",
      "1Y \t\t 5.5\n",
      "1Y6M \t\t 5.75\n",
      "2Y \t\t 6.0\n",
      "2Y6M \t\t 6.25\n",
      "3Y \t\t 6.5\n",
      "3Y6M \t\t 6.75\n",
      "4Y \t\t 6.8\n",
      "4Y6M \t\t 7.0\n",
      "5Y \t\t 7.1\n",
      "5Y6M \t\t 7.15\n",
      "6Y \t\t 7.2\n",
      "6Y6M \t\t 7.3\n",
      "7Y \t\t 7.35\n",
      "7Y6M \t\t 7.4\n",
      "8Y \t\t 7.5\n",
      "8Y6M \t\t 7.6\n",
      "9Y \t\t 7.6\n",
      "9Y6M \t\t 7.7\n",
      "10Y \t\t 7.8\n",
      "----------------------\n"
     ]
    }
   ],
   "source": [
    "# Exhibit 5-5 given in Frank Fabozzi's Bond Markets, Analysis and Strategies, Sixth Edition.\n",
    "# Deposit rates\n",
    "depo_maturities = [ql.Period(6,ql.Months), ql.Period(12, ql.Months)]\n",
    "depo_rates = [5.25, 5.5]\n",
    "\n",
    "# Bond rates\n",
    "bond_maturities = [ql.Period(6*i, ql.Months) for i in range(3,21)]\n",
    "bond_rates = [5.75, 6.0, 6.25, 6.5, 6.75, 6.80, 7.00, 7.1, 7.15,\n",
    "              7.2, 7.3, 7.35, 7.4, 7.5, 7.6, 7.6, 7.7, 7.8]\n",
    "\n",
    "print_curve(depo_maturities+bond_maturities, depo_rates+bond_rates)\n",
    "\n"
   ]
  },
  {
   "cell_type": "markdown",
   "metadata": {},
   "source": [
    "### Build spot"
   ]
  },
  {
   "cell_type": "code",
   "execution_count": 60,
   "metadata": {},
   "outputs": [],
   "source": [
    "calc_date = ql.Date(15, 1, 2015)\n",
    "ql.Settings.instance().evaluationDate = calc_date\n",
    "\n",
    "day_count = ql.Thirty360()\n",
    "calendar = ql.UnitedStates()\n",
    "\n",
    "bussiness_convention = ql.Unadjusted\n",
    "end_of_month = False\n",
    "settlement_days = 0\n",
    "face_amount = 100\n",
    "coupon_frequency = ql.Period(ql.Semiannual)\n",
    "settlement_days = 0\n",
    "\n",
    "# create deposit rate helpers from depo_rates\n",
    "depo_helpers = [ql.DepositRateHelper(ql.QuoteHandle(ql.SimpleQuote(r/100.0)),\n",
    "                                     m,\n",
    "                                     settlement_days,\n",
    "                                     calendar,\n",
    "                                     bussiness_convention,\n",
    "                                     end_of_month,\n",
    "                                     day_count)\n",
    "                for r, m in zip(depo_rates, depo_maturities)]\n",
    "\n",
    "# create fixed rate bond helpers from fixed rate bonds\n",
    "bond_helpers = []\n",
    "for r, m in zip(bond_rates, bond_maturities):\n",
    "    termination_date = calc_date + m\n",
    "    schedule = ql.Schedule(calc_date,\n",
    "                   termination_date,\n",
    "                   coupon_frequency,\n",
    "                   calendar,\n",
    "                   bussiness_convention,\n",
    "                   bussiness_convention,\n",
    "                   ql.DateGeneration.Backward,\n",
    "                   end_of_month)\n",
    "\n",
    "    helper = ql.FixedRateBondHelper(ql.QuoteHandle(ql.SimpleQuote(face_amount)), # price=face value\n",
    "                                    settlement_days,\n",
    "                                    face_amount,\n",
    "                                    schedule,\n",
    "                                    [r/100.0], # cupones todos iguales\n",
    "                                    day_count,\n",
    "                                    bussiness_convention)\n",
    "    bond_helpers.append(helper)\n",
    "\n",
    "rate_helpers = depo_helpers + bond_helpers\n",
    "\n",
    "# GENERACION DE YIELD CURVE\n",
    "yieldcurve = ql.PiecewiseLogCubicDiscount(calc_date, rate_helpers, day_count)"
   ]
  },
  {
   "cell_type": "code",
   "execution_count": 59,
   "metadata": {},
   "outputs": [],
   "source": [
    "##########\n",
    "# PROBANDO\n",
    "##########\n",
    "\n",
    "\n",
    "# print(list(schedule))\n",
    "\n",
    "# coupons = [r/100. for _ in list(schedule)]\n",
    "\n",
    "# new_helper = ql.FixedRateBondHelper(ql.QuoteHandle(ql.SimpleQuote(0)), # ?????\n",
    "#                                     settlement_days,\n",
    "#                                     face_amount,\n",
    "#                                     schedule,\n",
    "#                                     coupons,\n",
    "#                                     day_count,\n",
    "#                                     bussiness_convention)\n",
    "\n",
    "# print ('PAYMENTS:', [cf.date() for cf in new_helper.bond().cashflows()])\n",
    "# print ('COUPONS:', [round(cf.amount(),2) for cf in new_helper.bond().cashflows()])\n",
    "# new_helper.bond().bondYield(72, day_count, compounding, ql.Semiannual)"
   ]
  },
  {
   "cell_type": "code",
   "execution_count": 64,
   "metadata": {},
   "outputs": [],
   "source": [
    "# FLOATING RATE\n"
   ]
  },
  {
   "cell_type": "code",
   "execution_count": 9,
   "metadata": {},
   "outputs": [
    {
     "name": "stdout",
     "output_type": "stream",
     "text": [
      "----------------------\n",
      "Maturities\tCurve\n",
      "----------------------\n",
      "0.0 \t\t 0.0\n",
      "0.5 \t\t 0.052\n",
      "1.0 \t\t 0.054\n",
      "1.5 \t\t 0.058\n",
      "2.0 \t\t 0.06\n",
      "2.5 \t\t 0.063\n",
      "3.0 \t\t 0.066\n",
      "3.5 \t\t 0.068\n",
      "4.0 \t\t 0.069\n",
      "4.5 \t\t 0.071\n",
      "5.0 \t\t 0.072\n",
      "5.5 \t\t 0.073\n",
      "6.0 \t\t 0.073\n",
      "6.5 \t\t 0.074\n",
      "7.0 \t\t 0.075\n",
      "7.5 \t\t 0.075\n",
      "8.0 \t\t 0.077\n",
      "8.5 \t\t 0.078\n",
      "9.0 \t\t 0.078\n",
      "9.5 \t\t 0.079\n",
      "10.0 \t\t 0.081\n",
      "----------------------\n"
     ]
    }
   ],
   "source": [
    "# get spot rates\n",
    "spots = []\n",
    "tenors = []\n",
    "for d in yieldcurve.dates():\n",
    "    yrs = day_count.yearFraction(calc_date, d)\n",
    "    compounding = ql.Compounded\n",
    "    freq = ql.Semiannual\n",
    "    zero_rate = yieldcurve.zeroRate(yrs, compounding, freq)\n",
    "    eq_rate = zero_rate.equivalentRate(day_count,\n",
    "                                       compounding,\n",
    "                                       freq,\n",
    "                                       calc_date, d).rate()\n",
    "    # Create spot curve\n",
    "    spots.append(round(eq_rate, 5))\n",
    "    tenors.append(yrs)\n",
    "    \n",
    "print_curve(tenors, spots)"
   ]
  },
  {
   "cell_type": "code",
   "execution_count": null,
   "metadata": {},
   "outputs": [],
   "source": []
  },
  {
   "cell_type": "code",
   "execution_count": null,
   "metadata": {},
   "outputs": [],
   "source": []
  },
  {
   "cell_type": "code",
   "execution_count": null,
   "metadata": {},
   "outputs": [],
   "source": []
  },
  {
   "cell_type": "code",
   "execution_count": null,
   "metadata": {},
   "outputs": [],
   "source": []
  }
 ],
 "metadata": {
  "kernelspec": {
   "display_name": "Python 3",
   "language": "python",
   "name": "python3"
  },
  "language_info": {
   "codemirror_mode": {
    "name": "ipython",
    "version": 3
   },
   "file_extension": ".py",
   "mimetype": "text/x-python",
   "name": "python",
   "nbconvert_exporter": "python",
   "pygments_lexer": "ipython3",
   "version": "3.6.5"
  }
 },
 "nbformat": 4,
 "nbformat_minor": 2
}
