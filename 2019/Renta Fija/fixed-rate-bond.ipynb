{
 "cells": [
  {
   "cell_type": "code",
   "execution_count": 1,
   "metadata": {},
   "outputs": [],
   "source": [
    "import QuantLib as ql\n",
    "import pandas as pd"
   ]
  },
  {
   "cell_type": "code",
   "execution_count": 2,
   "metadata": {},
   "outputs": [],
   "source": [
    "from IPython.core.interactiveshell import InteractiveShell\n",
    "InteractiveShell.ast_node_interactivity = \"all\""
   ]
  },
  {
   "cell_type": "markdown",
   "metadata": {},
   "source": [
    "### Parameters"
   ]
  },
  {
   "cell_type": "code",
   "execution_count": 39,
   "metadata": {},
   "outputs": [],
   "source": [
    "calendar = ql.Argentina()\n",
    "dayCount = ql.Thirty360()\n",
    "compounding = ql.Compounded"
   ]
  },
  {
   "cell_type": "markdown",
   "metadata": {},
   "source": [
    "### TO21"
   ]
  },
  {
   "cell_type": "code",
   "execution_count": 93,
   "metadata": {},
   "outputs": [
    {
     "name": "stdout",
     "output_type": "stream",
     "text": [
      "SCHEDULE PRUEBA: [Date(3,4,2019), Date(3,10,2019), Date(3,4,2020), Date(3,10,2020), Date(3,4,2021), Date(3,10,2021)]\n",
      "ACCRUED: 0.0\n",
      "PAYMENTS: [Date(3,10,2019), Date(3,4,2020), Date(3,10,2020), Date(3,4,2021), Date(3,10,2021), Date(3,10,2021)]\n",
      "COUPONS: [9.1, 9.1, 9.1, 9.1, 9.1, 100.0]\n",
      "YTM (anual): 0.3613493280147314\n",
      "DURATION: 1.7283260787418753\n"
     ]
    }
   ],
   "source": [
    "compoundingFrequency = ql.Semiannual\n",
    "tenor = ql.Period(compoundingFrequency)\n",
    "faceValue = 100\n",
    "settlementDays = 0\n",
    "\n",
    "# Intervalo de pagos del bond\n",
    "start_date = ql.Date(3, 4, 2019)\n",
    "end_date = ql.Date(3, 10, 2021)\n",
    "\n",
    "schedule_prueba = ql.Schedule(start_date, end_date, tenor, calendar, ql.Unadjusted, ql.Unadjusted, ql.DateGeneration.Backward, False)\n",
    "print('SCHEDULE PRUEBA:', list(schedule_prueba))\n",
    "\n",
    "# Cupones: ANUAL (hay que especificarlos anual, para que recalcule el 'amount' de cada cupon, segun el compoundingFrequency) ( VER PARAMETROS EXTRAS ... )\n",
    "coupons = [0.182 for _ in schedule_prueba]\n",
    "\n",
    "b = ql.FixedRateBond(settlementDays, calendar, faceValue, start_date, end_date, tenor, coupons, dayCount, ql.Unadjusted, ql.Unadjusted)\n",
    "# b = ql.FixedRateBond(settlementDays, calendar, faceValue, start_date, end_date, tenor, coupons, dayCount, ql.Unadjusted)\n",
    "# b = ql.FixedRateBond(settlementDays, calendar, faceValue, start_date, end_date, tenor, coupons, dayCount)\n",
    "\n",
    "ql.Settings.instance().evaluationDate = ql.Date(3,4,2019)\n",
    "\n",
    "# TODO: pricear usando spots de bonos gob\n",
    "# print ('NPV(1):', b.NPV())\n",
    "accrued_interest = b.accruedAmount()\n",
    "bond_price = 72\n",
    "\n",
    "print('ACCRUED:', accrued_interest)\n",
    "\n",
    "ytm = b.bondYield(bond_price, dayCount, compounding, compoundingFrequency)\n",
    "\n",
    "print ('PAYMENTS:', [cf.date() for cf in b.cashflows()])\n",
    "print ('COUPONS:', [round(cf.amount(),2) for cf in b.cashflows()])\n",
    "print ('YTM (anual):', ytm)\n",
    "\n",
    "ytm = round(ytm, 7)\n",
    "ytm_rate = ql.InterestRate(ytm, dayCount, ql.Compounded, compoundingFrequency)\n",
    "print ('DURATION:', ql.BondFunctions.duration(b, ytm_rate, ql.Duration.Modified))"
   ]
  },
  {
   "cell_type": "code",
   "execution_count": 79,
   "metadata": {},
   "outputs": [],
   "source": [
    "# ql.FixedRateBond(settlementDays, calendar, faceValue, start_date, end_date, tenor, coupons)"
   ]
  },
  {
   "cell_type": "code",
   "execution_count": null,
   "metadata": {},
   "outputs": [],
   "source": []
  },
  {
   "cell_type": "markdown",
   "metadata": {},
   "source": [
    "### Fixed Rates (?)"
   ]
  },
  {
   "cell_type": "code",
   "execution_count": 86,
   "metadata": {},
   "outputs": [
    {
     "name": "stdout",
     "output_type": "stream",
     "text": [
      "SCHEDULE: [Date(15,1,2015), Date(15,7,2015), Date(15,1,2016), Date(15,7,2016), Date(15,1,2017), Date(15,7,2017)]\n",
      "PAYMENTS: [Date(15,7,2015), Date(15,1,2016), Date(15,7,2016), Date(15,1,2017), Date(15,7,2017), Date(15,7,2017)]\n",
      "COUPONS: [3.0, 3.0, 3.0, 3.0, 3.0, 100.0]\n",
      "YTM: 0.06\n"
     ]
    }
   ],
   "source": [
    "# EJEMPLO: Fixed Rate: cupones iguales, schedule automatico. Usa spotCurveHandle\n",
    "# dayCount ya definida\n",
    "compoundingFrequency = ql.Semiannual\n",
    "tenor = ql.Period(compoundingFrequency)\n",
    "faceValue = 100\n",
    "settlementDays = 0\n",
    "couponRate = 0.06 # anual\n",
    "\n",
    "ql.Settings.instance().evaluationDate = ql.Date(15,1,2015)\n",
    "coupons = [couponRate]\n",
    "\n",
    "# VER: ql.Unadjusted / ql.DateGeneration.Backword/Forwarde\n",
    "schedule = ql.Schedule(ql.Date(15, 1, 2015), ql.Date(15, 7, 2017), tenor, calendar, \n",
    "                       ql.Unadjusted, ql.Unadjusted, ql.DateGeneration.Backward, True)\n",
    "\n",
    "b = ql.FixedRateBond(settlementDays, faceValue, schedule, coupons, dayCount, ql.Unadjusted)\n",
    "\n",
    "actual_price = 100\n",
    "ytm = b.bondYield(actual_price, dayCount, compounding, compoundingFrequency)\n",
    "ytm = round(ytm, 7)\n",
    "print ('SCHEDULE:', list(schedule))\n",
    "print ('PAYMENTS:', [cf.date() for cf in b.cashflows()])\n",
    "print ('COUPONS:', [round(cf.amount(),2) for cf in b.cashflows()])\n",
    "print ('YTM:', ytm)"
   ]
  },
  {
   "cell_type": "code",
   "execution_count": 87,
   "metadata": {},
   "outputs": [
    {
     "name": "stdout",
     "output_type": "stream",
     "text": [
      "PAYMENTS: [Date(15,7,2015), Date(15,1,2016), Date(15,7,2016), Date(15,1,2017), Date(15,7,2017), Date(15,7,2017)]\n",
      "COUPONS: [3.0, 3.0, 3.0, 3.0, 3.0, 100.0]\n",
      "YTM (anual): 0.06\n",
      "DURATION: 2.2898535935972664\n"
     ]
    }
   ],
   "source": [
    "# Fixed Rate: cupones diferentes, schedule automatico (mismo que ejemplo anterior). Usa spotCurveHandle\n",
    "# YA DEFINIDOS: calendar, dayCount, compounding\n",
    "\n",
    "compoundingFrequency = ql.Semiannual\n",
    "tenor = ql.Period(compoundingFrequency)\n",
    "faceValue = 100\n",
    "settlementDays = 0\n",
    "\n",
    "coupons = [.06,.06,.06, .06, .06] # ANUAL (hay que especificarlos anual, para que recalcule el 'amount' de cada cupon, segun el compoundingFrequency)\n",
    "b = ql.FixedRateBond(settlementDays, calendar, faceValue, ql.Date(15, 1, 2015), ql.Date(15, 7, 2017), tenor, coupons, dayCount, ql.Unadjusted, ql.Unadjusted) # VER PARAMETROS EXTRAS ...\n",
    "\n",
    "ql.Settings.instance().evaluationDate = ql.Date(15,1,2015)\n",
    "\n",
    "# DURATION: Hay que pasarle el YTM (previamente calcularlo a partir de la curva spot)\n",
    "ytm = b.bondYield(faceValue, dayCount, ql.Compounded, compoundingFrequency)\n",
    "ytm = round(ytm, 7)\n",
    "ytm_rate = ql.InterestRate(ytm, dayCount, ql.Compounded, compoundingFrequency)\n",
    "\n",
    "print ('PAYMENTS:', [cf.date() for cf in b.cashflows()])\n",
    "print ('COUPONS:', [round(cf.amount(),2) for cf in b.cashflows()])\n",
    "print ('YTM (anual):', ytm)\n",
    "print ('DURATION:', ql.BondFunctions.duration(b, ytm_rate, ql.Duration.Modified))"
   ]
  },
  {
   "cell_type": "markdown",
   "metadata": {},
   "source": [
    "### Fixed schedule interval + possible Variable coupon. Use Spot Curve"
   ]
  },
  {
   "cell_type": "code",
   "execution_count": 90,
   "metadata": {},
   "outputs": [
    {
     "name": "stdout",
     "output_type": "stream",
     "text": [
      "ACCRUED: 0.0\n",
      "SPOT DATES: [Date(15,1,2015), Date(15,7,2015), Date(15,1,2016), Date(15,7,2016), Date(15,1,2017), Date(15,7,2017)]\n",
      "PAYMENTS: [Date(15,7,2015), Date(15,1,2016), Date(15,7,2016), Date(15,1,2017), Date(15,7,2017), Date(15,7,2017)]\n",
      "COUPONS: [3.0, 3.0, 3.0, 3.0, 3.0, 100.0]\n",
      "NPV(1): 100.2003766909293\n",
      "NPV(2): 100.20037669092929\n",
      "YTM: 0.06\n"
     ]
    }
   ],
   "source": [
    "spotDates = [ql.Date(15, 1, 2015), ql.Date(15, 7, 2015), ql.Date(15, 1, 2016), ql.Date(15,7,2016), ql.Date(15,1,2017), ql.Date(15,7,2017)]\n",
    "\n",
    "coupons   = [0.06, 0.06, 0.06, 0.06, 0.06, 0.06]\n",
    "spotRates = [0.06, 0.06, 0.06, 0.06, 0.06, 0.06]\n",
    "\n",
    "\n",
    "# Build Spot Curve\n",
    "interpolation = ql.Linear()\n",
    "spotCurve = ql.ZeroCurve(spotDates, spotRates, dayCount, calendar, interpolation, compounding)\n",
    "spotCurveHandle = ql.YieldTermStructureHandle(spotCurve)\n",
    "bondEngine = ql.DiscountingBondEngine(spotCurveHandle)\n",
    "compoundingFrequency = ql.Semiannual\n",
    "tenor = ql.Period(compoundingFrequency)\n",
    "\n",
    "b = ql.FixedRateBond(settlementDays, calendar, faceValue, ql.Date(15, 1, 2015), ql.Date(15, 7, 2017), tenor, coupons, dayCount, ql.Unadjusted, ql.Unadjusted) # VER PARAMETROS EXTRAS ...\n",
    "b.setPricingEngine(bondEngine)\n",
    "\n",
    "ql.Settings.instance().evaluationDate = ql.Date(15,1,2015)\n",
    "\n",
    "print('ACCRUED:', b.accruedAmount())\n",
    "      \n",
    "print('SPOT DATES:', spotDates)\n",
    "print ('PAYMENTS:', [cf.date() for cf in b.cashflows()])\n",
    "print ('COUPONS:', [round(cf.amount(),2) for cf in b.cashflows()])\n",
    "\n",
    "print ('NPV(1):', b.NPV())\n",
    "\n",
    "tot = faceValue*coupons[1]/2/pow(1+spotRates[1], 0.5)\n",
    "tot += faceValue*coupons[2]/2/pow(1+spotRates[2], 1)\n",
    "tot += faceValue*coupons[3]/2/pow(1+spotRates[3], 1.5)\n",
    "tot += faceValue*coupons[4]/2/pow(1+spotRates[4], 2)\n",
    "tot += (faceValue + faceValue*coupons[5]/2)/pow(1+spotRates[5], 2.5)\n",
    "print ('NPV(2):', tot)\n",
    "\n",
    "ytm = b.bondYield(100, dayCount, ql.Compounded, compoundingFrequency)\n",
    "ytm = round(ytm, 2)\n",
    "print ('YTM:', ytm)"
   ]
  },
  {
   "cell_type": "code",
   "execution_count": 9,
   "metadata": {},
   "outputs": [],
   "source": [
    "# b.cashflows()\n",
    "# help(ql.BondFunctions)\n",
    "# ejs.: ql.BondFunctions.zSpread, ..."
   ]
  },
  {
   "cell_type": "markdown",
   "metadata": {},
   "source": [
    "### AA22: ver otra forma. Tiene schedule con intervalo no fijo"
   ]
  },
  {
   "cell_type": "code",
   "execution_count": null,
   "metadata": {},
   "outputs": [],
   "source": []
  },
  {
   "cell_type": "code",
   "execution_count": 23,
   "metadata": {},
   "outputs": [
    {
     "data": {
      "text/plain": [
       "['settlementValue',\n",
       " 'setPricingEngine',\n",
       " 'settlementDate',\n",
       " '__reduce__',\n",
       " '__setattr__',\n",
       " '__dir__',\n",
       " 'redemption',\n",
       " '__ne__',\n",
       " '__doc__',\n",
       " 'calendar',\n",
       " 'previousCouponRate',\n",
       " 'this',\n",
       " 'thisown',\n",
       " '__deref__',\n",
       " '__reduce_ex__',\n",
       " 'recalculate',\n",
       " 'notionals',\n",
       " '__bool__',\n",
       " '__lt__',\n",
       " '__repr__',\n",
       " '__init__',\n",
       " '__sizeof__',\n",
       " 'accruedAmount',\n",
       " '__str__',\n",
       " '__getattribute__',\n",
       " 'notional',\n",
       " 'errorEstimate',\n",
       " '__eq__',\n",
       " 'nextCouponRate',\n",
       " 'issueDate',\n",
       " '__delattr__',\n",
       " 'unfreeze',\n",
       " '__new__',\n",
       " 'isExpired',\n",
       " '__format__',\n",
       " 'cashflows',\n",
       " 'redemptions',\n",
       " '__swig_destroy__',\n",
       " '__weakref__',\n",
       " '__subclasshook__',\n",
       " 'settlementDays',\n",
       " 'cleanPrice',\n",
       " '__le__',\n",
       " 'asObservable',\n",
       " 'maturityDate',\n",
       " '__gt__',\n",
       " 'dirtyPrice',\n",
       " '__hash__',\n",
       " '__class__',\n",
       " 'bondYield',\n",
       " '__nonzero__',\n",
       " '__del__',\n",
       " 'NPV',\n",
       " 'startDate',\n",
       " '__ge__',\n",
       " 'freeze',\n",
       " 'dayCounter',\n",
       " '__dict__',\n",
       " '__module__',\n",
       " 'frequency']"
      ]
     },
     "execution_count": 23,
     "metadata": {},
     "output_type": "execute_result"
    }
   ],
   "source": [
    "b.__dir__()"
   ]
  },
  {
   "cell_type": "code",
   "execution_count": null,
   "metadata": {},
   "outputs": [],
   "source": []
  }
 ],
 "metadata": {
  "kernelspec": {
   "display_name": "Python 3",
   "language": "python",
   "name": "python3"
  },
  "language_info": {
   "codemirror_mode": {
    "name": "ipython",
    "version": 3
   },
   "file_extension": ".py",
   "mimetype": "text/x-python",
   "name": "python",
   "nbconvert_exporter": "python",
   "pygments_lexer": "ipython3",
   "version": "3.6.5"
  }
 },
 "nbformat": 4,
 "nbformat_minor": 2
}
