{
 "cells": [
  {
   "cell_type": "code",
   "execution_count": 1,
   "metadata": {},
   "outputs": [],
   "source": [
    "from QuantLib import *\n",
    "import QuantLib as ql\n",
    "import pandas as pd\n",
    "\n",
    "# from IPython.core.interactiveshell import InteractiveShell\n",
    "# InteractiveShell.ast_node_interactivity = \"all\"\n",
    "\n",
    "import sys, os\n",
    "cwd = os.getcwd()\n",
    "sys.path.append(cwd)"
   ]
  },
  {
   "cell_type": "code",
   "execution_count": 2,
   "metadata": {},
   "outputs": [],
   "source": [
    "from modules.bond import *\n",
    "from datetime import datetime\n",
    "import matplotlib.pyplot as plt\n",
    "import seaborn as sns\n",
    "from matplotlib import dates\n",
    "sns.set_style(\"darkgrid\")\n",
    "\n",
    "from modules.curve import YieldCurve"
   ]
  },
  {
   "cell_type": "markdown",
   "metadata": {},
   "source": [
    "### Set Parameters"
   ]
  },
  {
   "cell_type": "code",
   "execution_count": 3,
   "metadata": {},
   "outputs": [],
   "source": [
    "# today = datetime.strptime(\"2019-08-19\", \"%Y-%m-%d\")\n",
    "today = datetime.strptime(\"2019-08-20\", \"%Y-%m-%d\")"
   ]
  },
  {
   "cell_type": "code",
   "execution_count": 4,
   "metadata": {},
   "outputs": [
    {
     "name": "stdout",
     "output_type": "stream",
     "text": [
      "['TO21', 'AY24', 'AA25', 'A2E2', 'A2E7', 'AO20', 'PARP', 'CO26', 'CUAP']\n"
     ]
    }
   ],
   "source": [
    "xl = pd.ExcelFile('Portfolio.xlsx')\n",
    "sheet_names = [name for name in xl.sheet_names if name not in ['Portfolio']]\n",
    "print(sheet_names)           "
   ]
  },
  {
   "cell_type": "code",
   "execution_count": 5,
   "metadata": {},
   "outputs": [],
   "source": [
    "dfs = []\n",
    "for sheet_name in sheet_names:\n",
    "    new_df = pd.read_excel(open('Portfolio.xlsx', 'rb'), sheet_name=sheet_name)[['Fecha de Pago', 'Cash Flow']]\n",
    "    new_df['Bond'] = sheet_name\n",
    "    new_df['Cash Flow'] = new_df['Cash Flow'].apply(lambda cf: cf.replace(',','.'))\n",
    "    new_df['Cash Flow'] = pd.to_numeric(new_df['Cash Flow'])\n",
    "    \n",
    "    new_df['Price'] = -new_df.iloc[0]['Cash Flow']\n",
    "    new_df['Price Date'] = new_df.iloc[0]['Fecha de Pago']\n",
    "    new_df = new_df.drop(0)\n",
    "    new_df['Fecha de Pago'] = pd.to_datetime(new_df['Fecha de Pago'], format=\"%d/%m/%Y\")\n",
    "    dfs.append(new_df)\n",
    "df = pd.concat(dfs, 0)\n",
    "df['Fecha de Pago'] = pd.to_datetime(df['Fecha de Pago'], format=\"%d/%m/%Y\")\n",
    "df['Price Date'] = today"
   ]
  },
  {
   "cell_type": "code",
   "execution_count": 6,
   "metadata": {},
   "outputs": [
    {
     "data": {
      "text/html": [
       "<div>\n",
       "<style scoped>\n",
       "    .dataframe tbody tr th:only-of-type {\n",
       "        vertical-align: middle;\n",
       "    }\n",
       "\n",
       "    .dataframe tbody tr th {\n",
       "        vertical-align: top;\n",
       "    }\n",
       "\n",
       "    .dataframe thead th {\n",
       "        text-align: right;\n",
       "    }\n",
       "</style>\n",
       "<table border=\"1\" class=\"dataframe\">\n",
       "  <thead>\n",
       "    <tr style=\"text-align: right;\">\n",
       "      <th></th>\n",
       "      <th>Fecha de Pago</th>\n",
       "      <th>Cash Flow</th>\n",
       "      <th>Bond</th>\n",
       "      <th>Price</th>\n",
       "      <th>Price Date</th>\n",
       "    </tr>\n",
       "  </thead>\n",
       "  <tbody>\n",
       "    <tr>\n",
       "      <th>1</th>\n",
       "      <td>2019-10-03</td>\n",
       "      <td>9.1</td>\n",
       "      <td>TO21</td>\n",
       "      <td>70.0</td>\n",
       "      <td>2019-08-20</td>\n",
       "    </tr>\n",
       "    <tr>\n",
       "      <th>2</th>\n",
       "      <td>2020-04-03</td>\n",
       "      <td>9.1</td>\n",
       "      <td>TO21</td>\n",
       "      <td>70.0</td>\n",
       "      <td>2019-08-20</td>\n",
       "    </tr>\n",
       "    <tr>\n",
       "      <th>3</th>\n",
       "      <td>2020-10-03</td>\n",
       "      <td>9.1</td>\n",
       "      <td>TO21</td>\n",
       "      <td>70.0</td>\n",
       "      <td>2019-08-20</td>\n",
       "    </tr>\n",
       "    <tr>\n",
       "      <th>4</th>\n",
       "      <td>2021-04-03</td>\n",
       "      <td>9.1</td>\n",
       "      <td>TO21</td>\n",
       "      <td>70.0</td>\n",
       "      <td>2019-08-20</td>\n",
       "    </tr>\n",
       "    <tr>\n",
       "      <th>5</th>\n",
       "      <td>2021-10-03</td>\n",
       "      <td>109.1</td>\n",
       "      <td>TO21</td>\n",
       "      <td>70.0</td>\n",
       "      <td>2019-08-20</td>\n",
       "    </tr>\n",
       "  </tbody>\n",
       "</table>\n",
       "</div>"
      ],
      "text/plain": [
       "  Fecha de Pago  Cash Flow  Bond  Price Price Date\n",
       "1    2019-10-03        9.1  TO21   70.0 2019-08-20\n",
       "2    2020-04-03        9.1  TO21   70.0 2019-08-20\n",
       "3    2020-10-03        9.1  TO21   70.0 2019-08-20\n",
       "4    2021-04-03        9.1  TO21   70.0 2019-08-20\n",
       "5    2021-10-03      109.1  TO21   70.0 2019-08-20"
      ]
     },
     "execution_count": 6,
     "metadata": {},
     "output_type": "execute_result"
    }
   ],
   "source": [
    "df.head()"
   ]
  },
  {
   "cell_type": "code",
   "execution_count": 8,
   "metadata": {},
   "outputs": [],
   "source": [
    "# df.Bond.unique()\n",
    "df = df[df.Bond.isin(['TO21'])]"
   ]
  },
  {
   "cell_type": "markdown",
   "metadata": {},
   "source": [
    "### Generate CASHFLOWS FOR EACH BOND"
   ]
  },
  {
   "cell_type": "code",
   "execution_count": 9,
   "metadata": {},
   "outputs": [
    {
     "name": "stdout",
     "output_type": "stream",
     "text": [
      "[-70.0, 9.1, 9.1, 9.1, 9.1, 109.1]\n",
      "[-70.0, 9.099890307515556, 9.09943410068634, 9.098977916728241, 9.098524248261514, 109.07683854856835]\n",
      "[-70.0, 8.827636718955349, 7.779598428135754, 6.855985767186669, 6.0462007834285805, 63.8820215444059]\n",
      "[-70.0, 8.726772892533731, 7.331777887447843, 6.159776088232995, 5.180049485536616, 52.17625364505676]\n",
      "[-70.0, 8.662728473507219, 7.058387752660502, 5.751171564394788, 4.691299880758525, 45.8276264126677]\n",
      "[-70.0, 8.646615679853342, 6.990917080682824, 5.652260195032957, 4.575247347634876, 44.349214389965226]\n",
      "[-70.0, 8.644691610289287, 6.98289511171316, 5.640551027077739, 4.561568279594598, 44.175711391784155]\n",
      "[-70.0, 8.644641751180567, 6.9826873342227955, 5.640247891227737, 4.561214312722718, 44.17122386786127]\n",
      "[-70.0, 8.64464161129384, 6.982686751280899, 5.6402470407580285, 4.561213319654754, 44.17121127808805]\n"
     ]
    }
   ],
   "source": [
    "instruments = [BondGenerator.bond_from_dataframe(df[df.Bond==name]) for name in df.Bond.unique().tolist()]\n",
    "ytm_curve = YieldCurve(today, instruments)"
   ]
  },
  {
   "cell_type": "code",
   "execution_count": 10,
   "metadata": {},
   "outputs": [],
   "source": [
    "instruments = [BondGenerator.bond_from_dataframe(df[df.Bond==name]) for name in df.Bond.unique().tolist()]\n",
    "ytm_curve = YieldCurve(today, instruments)"
   ]
  },
  {
   "cell_type": "code",
   "execution_count": 11,
   "metadata": {},
   "outputs": [
    {
     "data": {
      "text/html": [
       "<div>\n",
       "<style scoped>\n",
       "    .dataframe tbody tr th:only-of-type {\n",
       "        vertical-align: middle;\n",
       "    }\n",
       "\n",
       "    .dataframe tbody tr th {\n",
       "        vertical-align: top;\n",
       "    }\n",
       "\n",
       "    .dataframe thead th {\n",
       "        text-align: right;\n",
       "    }\n",
       "</style>\n",
       "<table border=\"1\" class=\"dataframe\">\n",
       "  <thead>\n",
       "    <tr style=\"text-align: right;\">\n",
       "      <th></th>\n",
       "      <th>5</th>\n",
       "      <th>0</th>\n",
       "      <th>3</th>\n",
       "      <th>1</th>\n",
       "      <th>2</th>\n",
       "      <th>7</th>\n",
       "      <th>4</th>\n",
       "      <th>6</th>\n",
       "      <th>8</th>\n",
       "    </tr>\n",
       "  </thead>\n",
       "  <tbody>\n",
       "    <tr>\n",
       "      <th>maturity</th>\n",
       "      <td>2020-10-08 00:00:00</td>\n",
       "      <td>2021-10-03 00:00:00</td>\n",
       "      <td>2022-01-26 00:00:00</td>\n",
       "      <td>2024-05-07 00:00:00</td>\n",
       "      <td>2025-04-18 00:00:00</td>\n",
       "      <td>2026-10-27 00:00:00</td>\n",
       "      <td>2027-01-26 00:00:00</td>\n",
       "      <td>2038-12-31 00:00:00</td>\n",
       "      <td>2045-12-31 00:00:00</td>\n",
       "    </tr>\n",
       "    <tr>\n",
       "      <th>name</th>\n",
       "      <td>AO20</td>\n",
       "      <td>TO21</td>\n",
       "      <td>A2E2</td>\n",
       "      <td>AY24</td>\n",
       "      <td>AA25</td>\n",
       "      <td>CO26</td>\n",
       "      <td>A2E7</td>\n",
       "      <td>PARP</td>\n",
       "      <td>CUAP</td>\n",
       "    </tr>\n",
       "    <tr>\n",
       "      <th>period</th>\n",
       "      <td>1.13699</td>\n",
       "      <td>2.12329</td>\n",
       "      <td>2.43836</td>\n",
       "      <td>4.71781</td>\n",
       "      <td>5.66575</td>\n",
       "      <td>7.19178</td>\n",
       "      <td>7.4411</td>\n",
       "      <td>19.3781</td>\n",
       "      <td>26.3836</td>\n",
       "    </tr>\n",
       "    <tr>\n",
       "      <th>yield</th>\n",
       "      <td>0.499351</td>\n",
       "      <td>0.530884</td>\n",
       "      <td>0.365363</td>\n",
       "      <td>0.413056</td>\n",
       "      <td>0.286952</td>\n",
       "      <td>0.081828</td>\n",
       "      <td>0.199663</td>\n",
       "      <td>0.100111</td>\n",
       "      <td>0.106204</td>\n",
       "    </tr>\n",
       "    <tr>\n",
       "      <th>Curves</th>\n",
       "      <td>YTM</td>\n",
       "      <td>YTM</td>\n",
       "      <td>YTM</td>\n",
       "      <td>YTM</td>\n",
       "      <td>YTM</td>\n",
       "      <td>YTM</td>\n",
       "      <td>YTM</td>\n",
       "      <td>YTM</td>\n",
       "      <td>YTM</td>\n",
       "    </tr>\n",
       "  </tbody>\n",
       "</table>\n",
       "</div>"
      ],
      "text/plain": [
       "                            5                    0                    3  \\\n",
       "maturity  2020-10-08 00:00:00  2021-10-03 00:00:00  2022-01-26 00:00:00   \n",
       "name                     AO20                 TO21                 A2E2   \n",
       "period                1.13699              2.12329              2.43836   \n",
       "yield                0.499351             0.530884             0.365363   \n",
       "Curves                    YTM                  YTM                  YTM   \n",
       "\n",
       "                            1                    2                    7  \\\n",
       "maturity  2024-05-07 00:00:00  2025-04-18 00:00:00  2026-10-27 00:00:00   \n",
       "name                     AY24                 AA25                 CO26   \n",
       "period                4.71781              5.66575              7.19178   \n",
       "yield                0.413056             0.286952             0.081828   \n",
       "Curves                    YTM                  YTM                  YTM   \n",
       "\n",
       "                            4                    6                    8  \n",
       "maturity  2027-01-26 00:00:00  2038-12-31 00:00:00  2045-12-31 00:00:00  \n",
       "name                     A2E7                 PARP                 CUAP  \n",
       "period                 7.4411              19.3781              26.3836  \n",
       "yield                0.199663             0.100111             0.106204  \n",
       "Curves                    YTM                  YTM                  YTM  "
      ]
     },
     "execution_count": 11,
     "metadata": {},
     "output_type": "execute_result"
    }
   ],
   "source": [
    "# YTM ORIGINAL\n",
    "z = pd.DataFrame(data={ \n",
    "    'maturity': ytm_curve.maturities, \n",
    "    'yield': ytm_curve.yields, \n",
    "    'name': ytm_curve.names,\n",
    "    'period': ytm_curve.periods\n",
    "}).sort_values(by='maturity', ascending=True)\n",
    "z['Curves'] = 'YTM'\n",
    "z.T"
   ]
  },
  {
   "cell_type": "markdown",
   "metadata": {},
   "source": [
    "### Extensiones"
   ]
  },
  {
   "cell_type": "code",
   "execution_count": 8,
   "metadata": {},
   "outputs": [],
   "source": [
    "# # YTM INTERPOLATED\n",
    "# maturities, yields = ytm_curve.interpolated_in_intervals(40)\n",
    "# z_interpolated = pd.DataFrame(data={'maturity': maturities, 'yield': yields}).sort_values(by='maturity', ascending=True)\n",
    "# z_interpolated['Curves'] = 'interpolated YTM'\n",
    "\n",
    "# # SPOT CURVE\n",
    "# spot_curve = ytm_curve.implied_spot_curve(n_points=20)\n",
    "# spot_curve_maturities, spot_curve_yields = spot_curve.maturities, spot_curve.yields\n",
    "# z_spot = pd.DataFrame(data={'maturity': spot_curve_maturities, 'yield': spot_curve_yields}).sort_values(by='maturity', ascending=True)\n",
    "# z_spot['Curves'] = 'SPOT'"
   ]
  },
  {
   "cell_type": "code",
   "execution_count": 9,
   "metadata": {},
   "outputs": [
    {
     "name": "stdout",
     "output_type": "stream",
     "text": [
      "#######\n",
      "tot =  0\n",
      "n_days =  415\n",
      "period =  1.1369863013698631\n",
      "yield_interpolated =  0.4993514269027107\n",
      "value =  0.42794096237071577\n",
      "#######\n",
      "# sum:  0.5308836184570183\n",
      "tot =  0.3540755082040323\n",
      "n_days =  775\n",
      "period =  2.1232876712328768\n",
      "yield_interpolated =  0.5308836184570183\n",
      "value =  0.5014126494284228\n",
      "#######\n",
      "# sum:  0.3653629258062832\n",
      "# sum:  0.3653629258062832\n",
      "tot =  0.39783793194698674\n",
      "n_days =  890\n",
      "period =  2.4383561643835616\n",
      "yield_interpolated =  0.3653629258062832\n",
      "value =  0.3989725062305165\n",
      "#######\n",
      "# sum:  0.384852982655726\n",
      "# sum:  0.384852982655726\n",
      "# sum:  0.384852982655726\n",
      "tot =  0.5887909471955064\n",
      "n_days =  1230\n",
      "period =  3.3698630136986303\n",
      "yield_interpolated =  0.384852982655726\n",
      "value =  0.4337960215512038\n",
      "#######\n",
      "# sum:  0.41305624139080194\n",
      "# sum:  0.41305624139080194\n",
      "# sum:  0.41305624139080194\n",
      "# sum:  0.41305624139080194\n",
      "tot =  0.7545896115973709\n",
      "n_days =  1722\n",
      "period =  4.717808219178083\n",
      "yield_interpolated =  0.41305624139080194\n",
      "value =  0.4492664644851445\n",
      "#######\n",
      "# sum:  0.2869519868785801\n",
      "# sum:  0.2869519868785801\n",
      "# sum:  0.2869519868785801\n",
      "# sum:  0.2869519868785801\n",
      "# sum:  0.2869519868785801\n",
      "tot =  0.5740526695373184\n",
      "n_days =  2068\n",
      "period =  5.6657534246575345\n",
      "yield_interpolated =  0.2869519868785801\n",
      "value =  0.21550282612766192\n",
      "#######\n",
      "# sum:  0.08182800955271757\n",
      "# sum:  0.08182800955271757\n",
      "# sum:  0.08182800955271757\n",
      "# sum:  0.08182800955271757\n",
      "# sum:  0.08182800955271757\n",
      "# sum:  0.08182800955271757\n",
      "tot =  0.1907813451122017\n",
      "n_days =  2625\n",
      "period =  7.191780821917808\n",
      "yield_interpolated =  0.08182800955271757\n",
      "value =  0.04119683441542721\n",
      "#######\n",
      "# sum:  0.1996627206966341\n",
      "# sum:  0.1996627206966341\n",
      "# sum:  0.1996627206966341\n",
      "# sum:  0.1996627206966341\n",
      "# sum:  0.1996627206966341\n",
      "# sum:  0.1996627206966341\n",
      "# sum:  0.1996627206966341\n",
      "tot =  0.6148618262402004\n",
      "n_days =  2716\n",
      "period =  7.441095890410959\n",
      "yield_interpolated =  0.1996627206966341\n",
      "value =  0.16496576244032268\n",
      "#######\n",
      "# sum:  0.10011075187782871\n",
      "# sum:  0.10011075187782871\n",
      "# sum:  0.10011075187782871\n",
      "# sum:  0.10011075187782871\n",
      "# sum:  0.10011075187782871\n",
      "# sum:  0.10011075187782871\n",
      "# sum:  0.10011075187782871\n",
      "# sum:  0.10011075187782871\n",
      "tot =  0.34043072676674924\n",
      "n_days =  7073\n",
      "period =  19.378082191780823\n",
      "yield_interpolated =  0.10011075187782871\n",
      "value =  0.026751448375349263\n",
      "#######\n",
      "# sum:  0.10620380296915548\n",
      "# sum:  0.10620380296915548\n",
      "# sum:  0.10620380296915548\n",
      "# sum:  0.10620380296915548\n",
      "# sum:  0.10620380296915548\n",
      "# sum:  0.10620380296915548\n",
      "# sum:  0.10620380296915548\n",
      "# sum:  0.10620380296915548\n",
      "# sum:  0.10620380296915548\n",
      "tot =  0.4248246820842926\n",
      "n_days =  9630\n",
      "period =  26.383561643835616\n",
      "yield_interpolated =  0.10620380296915548\n",
      "value =  0.025098507764534483\n"
     ]
    }
   ],
   "source": [
    "# SPOT CURVE (SPECIFIC DATES)\n",
    "spot_dates = ['2020-10-8', '2021-10-3', '2022-1-26', '2023-1-1', '2024-5-7', '2025-4-18', '2026-10-27', '2027-1-26', '2038-12-31', '2045-12-31']\n",
    "specific_dates = sorted([datetime.strptime(x, \"%Y-%m-%d\") for x in spot_dates])\n",
    "\n",
    "spot_curve_2 = ytm_curve.implied_spot_curve(specific_dates=specific_dates)\n",
    "spot_curve_maturities_2, spot_curve_yields_2 = spot_curve_2.maturities, spot_curve_2.yields\n",
    "\n",
    "z_spot_2 = pd.DataFrame(data={'maturity': spot_curve_maturities_2, 'yield': spot_curve_yields_2}).sort_values(by='maturity', ascending=True)\n",
    "z_spot_2['Curves'] = 'SPOT'"
   ]
  },
  {
   "cell_type": "code",
   "execution_count": 13,
   "metadata": {},
   "outputs": [
    {
     "data": {
      "text/html": [
       "<div>\n",
       "<style scoped>\n",
       "    .dataframe tbody tr th:only-of-type {\n",
       "        vertical-align: middle;\n",
       "    }\n",
       "\n",
       "    .dataframe tbody tr th {\n",
       "        vertical-align: top;\n",
       "    }\n",
       "\n",
       "    .dataframe thead th {\n",
       "        text-align: right;\n",
       "    }\n",
       "</style>\n",
       "<table border=\"1\" class=\"dataframe\">\n",
       "  <thead>\n",
       "    <tr style=\"text-align: right;\">\n",
       "      <th></th>\n",
       "      <th>5</th>\n",
       "      <th>0</th>\n",
       "      <th>3</th>\n",
       "      <th>1</th>\n",
       "      <th>2</th>\n",
       "      <th>7</th>\n",
       "      <th>4</th>\n",
       "      <th>6</th>\n",
       "      <th>8</th>\n",
       "    </tr>\n",
       "  </thead>\n",
       "  <tbody>\n",
       "    <tr>\n",
       "      <th>maturity</th>\n",
       "      <td>2020-10-08 00:00:00</td>\n",
       "      <td>2021-10-03 00:00:00</td>\n",
       "      <td>2022-01-26 00:00:00</td>\n",
       "      <td>2024-05-07 00:00:00</td>\n",
       "      <td>2025-04-18 00:00:00</td>\n",
       "      <td>2026-10-27 00:00:00</td>\n",
       "      <td>2027-01-26 00:00:00</td>\n",
       "      <td>2038-12-31 00:00:00</td>\n",
       "      <td>2045-12-31 00:00:00</td>\n",
       "    </tr>\n",
       "    <tr>\n",
       "      <th>name</th>\n",
       "      <td>AO20</td>\n",
       "      <td>TO21</td>\n",
       "      <td>A2E2</td>\n",
       "      <td>AY24</td>\n",
       "      <td>AA25</td>\n",
       "      <td>CO26</td>\n",
       "      <td>A2E7</td>\n",
       "      <td>PARP</td>\n",
       "      <td>CUAP</td>\n",
       "    </tr>\n",
       "    <tr>\n",
       "      <th>period</th>\n",
       "      <td>1.13699</td>\n",
       "      <td>2.12329</td>\n",
       "      <td>2.43836</td>\n",
       "      <td>4.71781</td>\n",
       "      <td>5.66575</td>\n",
       "      <td>7.19178</td>\n",
       "      <td>7.4411</td>\n",
       "      <td>19.3781</td>\n",
       "      <td>26.3836</td>\n",
       "    </tr>\n",
       "    <tr>\n",
       "      <th>yield</th>\n",
       "      <td>0.499351</td>\n",
       "      <td>0.530884</td>\n",
       "      <td>0.365363</td>\n",
       "      <td>0.413056</td>\n",
       "      <td>0.286952</td>\n",
       "      <td>0.081828</td>\n",
       "      <td>0.199663</td>\n",
       "      <td>0.100111</td>\n",
       "      <td>0.106204</td>\n",
       "    </tr>\n",
       "    <tr>\n",
       "      <th>Curves</th>\n",
       "      <td>YTM</td>\n",
       "      <td>YTM</td>\n",
       "      <td>YTM</td>\n",
       "      <td>YTM</td>\n",
       "      <td>YTM</td>\n",
       "      <td>YTM</td>\n",
       "      <td>YTM</td>\n",
       "      <td>YTM</td>\n",
       "      <td>YTM</td>\n",
       "    </tr>\n",
       "  </tbody>\n",
       "</table>\n",
       "</div>"
      ],
      "text/plain": [
       "                            5                    0                    3  \\\n",
       "maturity  2020-10-08 00:00:00  2021-10-03 00:00:00  2022-01-26 00:00:00   \n",
       "name                     AO20                 TO21                 A2E2   \n",
       "period                1.13699              2.12329              2.43836   \n",
       "yield                0.499351             0.530884             0.365363   \n",
       "Curves                    YTM                  YTM                  YTM   \n",
       "\n",
       "                            1                    2                    7  \\\n",
       "maturity  2024-05-07 00:00:00  2025-04-18 00:00:00  2026-10-27 00:00:00   \n",
       "name                     AY24                 AA25                 CO26   \n",
       "period                4.71781              5.66575              7.19178   \n",
       "yield                0.413056             0.286952             0.081828   \n",
       "Curves                    YTM                  YTM                  YTM   \n",
       "\n",
       "                            4                    6                    8  \n",
       "maturity  2027-01-26 00:00:00  2038-12-31 00:00:00  2045-12-31 00:00:00  \n",
       "name                     A2E7                 PARP                 CUAP  \n",
       "period                 7.4411              19.3781              26.3836  \n",
       "yield                0.199663             0.100111             0.106204  \n",
       "Curves                    YTM                  YTM                  YTM  "
      ]
     },
     "execution_count": 13,
     "metadata": {},
     "output_type": "execute_result"
    }
   ],
   "source": [
    "z.T"
   ]
  },
  {
   "cell_type": "code",
   "execution_count": 14,
   "metadata": {},
   "outputs": [
    {
     "data": {
      "text/html": [
       "<div>\n",
       "<style scoped>\n",
       "    .dataframe tbody tr th:only-of-type {\n",
       "        vertical-align: middle;\n",
       "    }\n",
       "\n",
       "    .dataframe tbody tr th {\n",
       "        vertical-align: top;\n",
       "    }\n",
       "\n",
       "    .dataframe thead th {\n",
       "        text-align: right;\n",
       "    }\n",
       "</style>\n",
       "<table border=\"1\" class=\"dataframe\">\n",
       "  <thead>\n",
       "    <tr style=\"text-align: right;\">\n",
       "      <th></th>\n",
       "      <th>0</th>\n",
       "      <th>1</th>\n",
       "      <th>2</th>\n",
       "      <th>3</th>\n",
       "      <th>4</th>\n",
       "      <th>5</th>\n",
       "      <th>6</th>\n",
       "      <th>7</th>\n",
       "      <th>8</th>\n",
       "      <th>9</th>\n",
       "    </tr>\n",
       "  </thead>\n",
       "  <tbody>\n",
       "    <tr>\n",
       "      <th>maturity</th>\n",
       "      <td>2020-10-08 00:00:00</td>\n",
       "      <td>2021-10-03 00:00:00</td>\n",
       "      <td>2022-01-26 00:00:00</td>\n",
       "      <td>2023-01-01 00:00:00</td>\n",
       "      <td>2024-05-07 00:00:00</td>\n",
       "      <td>2025-04-18 00:00:00</td>\n",
       "      <td>2026-10-27 00:00:00</td>\n",
       "      <td>2027-01-26 00:00:00</td>\n",
       "      <td>2038-12-31 00:00:00</td>\n",
       "      <td>2045-12-31 00:00:00</td>\n",
       "    </tr>\n",
       "    <tr>\n",
       "      <th>yield</th>\n",
       "      <td>0.427941</td>\n",
       "      <td>0.501413</td>\n",
       "      <td>0.398973</td>\n",
       "      <td>0.433796</td>\n",
       "      <td>0.449266</td>\n",
       "      <td>0.215503</td>\n",
       "      <td>0.0411968</td>\n",
       "      <td>0.164966</td>\n",
       "      <td>0.0267514</td>\n",
       "      <td>0.0250985</td>\n",
       "    </tr>\n",
       "    <tr>\n",
       "      <th>Curves</th>\n",
       "      <td>SPOT</td>\n",
       "      <td>SPOT</td>\n",
       "      <td>SPOT</td>\n",
       "      <td>SPOT</td>\n",
       "      <td>SPOT</td>\n",
       "      <td>SPOT</td>\n",
       "      <td>SPOT</td>\n",
       "      <td>SPOT</td>\n",
       "      <td>SPOT</td>\n",
       "      <td>SPOT</td>\n",
       "    </tr>\n",
       "  </tbody>\n",
       "</table>\n",
       "</div>"
      ],
      "text/plain": [
       "                            0                    1                    2  \\\n",
       "maturity  2020-10-08 00:00:00  2021-10-03 00:00:00  2022-01-26 00:00:00   \n",
       "yield                0.427941             0.501413             0.398973   \n",
       "Curves                   SPOT                 SPOT                 SPOT   \n",
       "\n",
       "                            3                    4                    5  \\\n",
       "maturity  2023-01-01 00:00:00  2024-05-07 00:00:00  2025-04-18 00:00:00   \n",
       "yield                0.433796             0.449266             0.215503   \n",
       "Curves                   SPOT                 SPOT                 SPOT   \n",
       "\n",
       "                            6                    7                    8  \\\n",
       "maturity  2026-10-27 00:00:00  2027-01-26 00:00:00  2038-12-31 00:00:00   \n",
       "yield               0.0411968             0.164966            0.0267514   \n",
       "Curves                   SPOT                 SPOT                 SPOT   \n",
       "\n",
       "                            9  \n",
       "maturity  2045-12-31 00:00:00  \n",
       "yield               0.0250985  \n",
       "Curves                   SPOT  "
      ]
     },
     "execution_count": 14,
     "metadata": {},
     "output_type": "execute_result"
    }
   ],
   "source": [
    "z_spot_2.T"
   ]
  },
  {
   "cell_type": "code",
   "execution_count": 11,
   "metadata": {},
   "outputs": [
    {
     "name": "stdout",
     "output_type": "stream",
     "text": [
      "#######\n",
      "T1: 2019-08-20 00:00:00\n",
      "T2: 2021-01-01 00:00:00\n",
      "R1: 0\n",
      "R2: 0.3489003452664896\n",
      "Days:  500\n",
      "Diff:  1.36986301369863\n",
      "1.032518356442488\n",
      "#######\n",
      "T1: 2021-01-01 00:00:00\n",
      "T2: 2021-10-01 00:00:00\n",
      "R1: 0.3489003452664896\n",
      "R2: 0.5008655241385365\n",
      "Days:  273\n",
      "Diff:  0.7479452054794521\n",
      "0.5074950889794865\n",
      "#######\n",
      "T1: 2021-10-01 00:00:00\n",
      "T2: 2023-01-01 00:00:00\n",
      "R1: 0.5008655241385365\n",
      "R2: 0.2935458980291934\n",
      "Days:  457\n",
      "Diff:  1.252054794520548\n",
      "0.18958931325825756\n",
      "#######\n",
      "T1: 2023-01-01 00:00:00\n",
      "T2: 2024-01-01 00:00:00\n",
      "R1: 0.2935458980291934\n",
      "R2: 0.342163250594713\n",
      "Days:  365\n",
      "Diff:  1.0\n",
      "0.3926078649327611\n",
      "#######\n",
      "T1: 2024-01-01 00:00:00\n",
      "T2: 2025-01-01 00:00:00\n",
      "R1: 0.342163250594713\n",
      "R2: 0.2392932242034007\n",
      "Days:  366\n",
      "Diff:  1.0027397260273974\n",
      "0.14498046885286797\n",
      "#######\n",
      "T1: 2025-01-01 00:00:00\n",
      "T2: 2028-01-01 00:00:00\n",
      "R1: 0.2392932242034007\n",
      "R2: 0.08603947222575092\n",
      "Days:  1095\n",
      "Diff:  3.0\n",
      "0.12255690306144618\n",
      "#######\n",
      "T1: 2028-01-01 00:00:00\n",
      "T2: 2035-01-01 00:00:00\n",
      "R1: 0.08603947222575092\n",
      "R2: 0.03651521292994153\n",
      "Days:  2557\n",
      "Diff:  7.005479452054795\n",
      "0.22700174705999343\n"
     ]
    },
    {
     "data": {
      "text/html": [
       "<div>\n",
       "<style scoped>\n",
       "    .dataframe tbody tr th:only-of-type {\n",
       "        vertical-align: middle;\n",
       "    }\n",
       "\n",
       "    .dataframe tbody tr th {\n",
       "        vertical-align: top;\n",
       "    }\n",
       "\n",
       "    .dataframe thead th {\n",
       "        text-align: right;\n",
       "    }\n",
       "</style>\n",
       "<table border=\"1\" class=\"dataframe\">\n",
       "  <thead>\n",
       "    <tr style=\"text-align: right;\">\n",
       "      <th></th>\n",
       "      <th>0</th>\n",
       "      <th>1</th>\n",
       "      <th>2</th>\n",
       "      <th>3</th>\n",
       "      <th>4</th>\n",
       "      <th>5</th>\n",
       "      <th>6</th>\n",
       "    </tr>\n",
       "  </thead>\n",
       "  <tbody>\n",
       "    <tr>\n",
       "      <th>maturity</th>\n",
       "      <td>2021-01-01 00:00:00</td>\n",
       "      <td>2021-10-01 00:00:00</td>\n",
       "      <td>2023-01-01 00:00:00</td>\n",
       "      <td>2024-01-01 00:00:00</td>\n",
       "      <td>2025-01-01 00:00:00</td>\n",
       "      <td>2028-01-01 00:00:00</td>\n",
       "      <td>2035-01-01 00:00:00</td>\n",
       "    </tr>\n",
       "    <tr>\n",
       "      <th>yield</th>\n",
       "      <td>1.03252</td>\n",
       "      <td>0.507495</td>\n",
       "      <td>0.189589</td>\n",
       "      <td>0.392608</td>\n",
       "      <td>0.14498</td>\n",
       "      <td>0.122557</td>\n",
       "      <td>0.227002</td>\n",
       "    </tr>\n",
       "    <tr>\n",
       "      <th>Curves</th>\n",
       "      <td>FORWARD</td>\n",
       "      <td>FORWARD</td>\n",
       "      <td>FORWARD</td>\n",
       "      <td>FORWARD</td>\n",
       "      <td>FORWARD</td>\n",
       "      <td>FORWARD</td>\n",
       "      <td>FORWARD</td>\n",
       "    </tr>\n",
       "  </tbody>\n",
       "</table>\n",
       "</div>"
      ],
      "text/plain": [
       "                            0                    1                    2  \\\n",
       "maturity  2021-01-01 00:00:00  2021-10-01 00:00:00  2023-01-01 00:00:00   \n",
       "yield                 1.03252             0.507495             0.189589   \n",
       "Curves                FORWARD              FORWARD              FORWARD   \n",
       "\n",
       "                            3                    4                    5  \\\n",
       "maturity  2024-01-01 00:00:00  2025-01-01 00:00:00  2028-01-01 00:00:00   \n",
       "yield                0.392608              0.14498             0.122557   \n",
       "Curves                FORWARD              FORWARD              FORWARD   \n",
       "\n",
       "                            6  \n",
       "maturity  2035-01-01 00:00:00  \n",
       "yield                0.227002  \n",
       "Curves                FORWARD  "
      ]
     },
     "execution_count": 11,
     "metadata": {},
     "output_type": "execute_result"
    }
   ],
   "source": [
    "forward_curve = spot_curve_2.get_forward_curve()\n",
    "forward_maturities, forward_rates = forward_curve.maturities, forward_curve.yields\n",
    "z_forward = pd.DataFrame(data={'maturity': forward_maturities, 'yield': forward_rates}).sort_values(by='maturity', ascending=True)\n",
    "z_forward['Curves'] = 'FORWARD'\n",
    "z_forward.T"
   ]
  },
  {
   "cell_type": "code",
   "execution_count": 12,
   "metadata": {},
   "outputs": [
    {
     "data": {
      "text/html": [
       "<div>\n",
       "<style scoped>\n",
       "    .dataframe tbody tr th:only-of-type {\n",
       "        vertical-align: middle;\n",
       "    }\n",
       "\n",
       "    .dataframe tbody tr th {\n",
       "        vertical-align: top;\n",
       "    }\n",
       "\n",
       "    .dataframe thead th {\n",
       "        text-align: right;\n",
       "    }\n",
       "</style>\n",
       "<table border=\"1\" class=\"dataframe\">\n",
       "  <thead>\n",
       "    <tr style=\"text-align: right;\">\n",
       "      <th></th>\n",
       "      <th>0</th>\n",
       "      <th>1</th>\n",
       "      <th>2</th>\n",
       "      <th>3</th>\n",
       "      <th>4</th>\n",
       "      <th>5</th>\n",
       "      <th>6</th>\n",
       "    </tr>\n",
       "  </thead>\n",
       "  <tbody>\n",
       "    <tr>\n",
       "      <th>maturity</th>\n",
       "      <td>2021-01-01 00:00:00</td>\n",
       "      <td>2021-10-01 00:00:00</td>\n",
       "      <td>2023-01-01 00:00:00</td>\n",
       "      <td>2024-01-01 00:00:00</td>\n",
       "      <td>2025-01-01 00:00:00</td>\n",
       "      <td>2028-01-01 00:00:00</td>\n",
       "      <td>2035-01-01 00:00:00</td>\n",
       "    </tr>\n",
       "    <tr>\n",
       "      <th>yield</th>\n",
       "      <td>0.3489</td>\n",
       "      <td>0.500866</td>\n",
       "      <td>0.293546</td>\n",
       "      <td>0.342163</td>\n",
       "      <td>0.239293</td>\n",
       "      <td>0.0860395</td>\n",
       "      <td>0.0365152</td>\n",
       "    </tr>\n",
       "    <tr>\n",
       "      <th>Curves</th>\n",
       "      <td>SPOT</td>\n",
       "      <td>SPOT</td>\n",
       "      <td>SPOT</td>\n",
       "      <td>SPOT</td>\n",
       "      <td>SPOT</td>\n",
       "      <td>SPOT</td>\n",
       "      <td>SPOT</td>\n",
       "    </tr>\n",
       "  </tbody>\n",
       "</table>\n",
       "</div>"
      ],
      "text/plain": [
       "                            0                    1                    2  \\\n",
       "maturity  2021-01-01 00:00:00  2021-10-01 00:00:00  2023-01-01 00:00:00   \n",
       "yield                  0.3489             0.500866             0.293546   \n",
       "Curves                   SPOT                 SPOT                 SPOT   \n",
       "\n",
       "                            3                    4                    5  \\\n",
       "maturity  2024-01-01 00:00:00  2025-01-01 00:00:00  2028-01-01 00:00:00   \n",
       "yield                0.342163             0.239293            0.0860395   \n",
       "Curves                   SPOT                 SPOT                 SPOT   \n",
       "\n",
       "                            6  \n",
       "maturity  2035-01-01 00:00:00  \n",
       "yield               0.0365152  \n",
       "Curves                   SPOT  "
      ]
     },
     "execution_count": 12,
     "metadata": {},
     "output_type": "execute_result"
    }
   ],
   "source": [
    "z_spot_2.T"
   ]
  },
  {
   "cell_type": "code",
   "execution_count": 17,
   "metadata": {},
   "outputs": [
    {
     "data": {
      "text/html": [
       "<div>\n",
       "<style scoped>\n",
       "    .dataframe tbody tr th:only-of-type {\n",
       "        vertical-align: middle;\n",
       "    }\n",
       "\n",
       "    .dataframe tbody tr th {\n",
       "        vertical-align: top;\n",
       "    }\n",
       "\n",
       "    .dataframe thead th {\n",
       "        text-align: right;\n",
       "    }\n",
       "</style>\n",
       "<table border=\"1\" class=\"dataframe\">\n",
       "  <thead>\n",
       "    <tr style=\"text-align: right;\">\n",
       "      <th></th>\n",
       "      <th>5</th>\n",
       "      <th>0</th>\n",
       "      <th>3</th>\n",
       "      <th>1</th>\n",
       "      <th>2</th>\n",
       "      <th>7</th>\n",
       "      <th>4</th>\n",
       "      <th>6</th>\n",
       "      <th>8</th>\n",
       "    </tr>\n",
       "  </thead>\n",
       "  <tbody>\n",
       "    <tr>\n",
       "      <th>maturity</th>\n",
       "      <td>2020-10-08 00:00:00</td>\n",
       "      <td>2021-10-03 00:00:00</td>\n",
       "      <td>2022-01-26 00:00:00</td>\n",
       "      <td>2024-05-07 00:00:00</td>\n",
       "      <td>2025-04-18 00:00:00</td>\n",
       "      <td>2026-10-27 00:00:00</td>\n",
       "      <td>2027-01-26 00:00:00</td>\n",
       "      <td>2038-12-31 00:00:00</td>\n",
       "      <td>2045-12-31 00:00:00</td>\n",
       "    </tr>\n",
       "    <tr>\n",
       "      <th>name</th>\n",
       "      <td>AO20</td>\n",
       "      <td>TO21</td>\n",
       "      <td>A2E2</td>\n",
       "      <td>AY24</td>\n",
       "      <td>AA25</td>\n",
       "      <td>CO26</td>\n",
       "      <td>A2E7</td>\n",
       "      <td>PARP</td>\n",
       "      <td>CUAP</td>\n",
       "    </tr>\n",
       "    <tr>\n",
       "      <th>yield</th>\n",
       "      <td>0.499351</td>\n",
       "      <td>0.530884</td>\n",
       "      <td>0.365363</td>\n",
       "      <td>0.413056</td>\n",
       "      <td>0.286952</td>\n",
       "      <td>0.081828</td>\n",
       "      <td>0.199663</td>\n",
       "      <td>0.100111</td>\n",
       "      <td>0.106204</td>\n",
       "    </tr>\n",
       "    <tr>\n",
       "      <th>Curves</th>\n",
       "      <td>YTM</td>\n",
       "      <td>YTM</td>\n",
       "      <td>YTM</td>\n",
       "      <td>YTM</td>\n",
       "      <td>YTM</td>\n",
       "      <td>YTM</td>\n",
       "      <td>YTM</td>\n",
       "      <td>YTM</td>\n",
       "      <td>YTM</td>\n",
       "    </tr>\n",
       "  </tbody>\n",
       "</table>\n",
       "</div>"
      ],
      "text/plain": [
       "                            5                    0                    3  \\\n",
       "maturity  2020-10-08 00:00:00  2021-10-03 00:00:00  2022-01-26 00:00:00   \n",
       "name                     AO20                 TO21                 A2E2   \n",
       "yield                0.499351             0.530884             0.365363   \n",
       "Curves                    YTM                  YTM                  YTM   \n",
       "\n",
       "                            1                    2                    7  \\\n",
       "maturity  2024-05-07 00:00:00  2025-04-18 00:00:00  2026-10-27 00:00:00   \n",
       "name                     AY24                 AA25                 CO26   \n",
       "yield                0.413056             0.286952             0.081828   \n",
       "Curves                    YTM                  YTM                  YTM   \n",
       "\n",
       "                            4                    6                    8  \n",
       "maturity  2027-01-26 00:00:00  2038-12-31 00:00:00  2045-12-31 00:00:00  \n",
       "name                     A2E7                 PARP                 CUAP  \n",
       "yield                0.199663             0.100111             0.106204  \n",
       "Curves                    YTM                  YTM                  YTM  "
      ]
     },
     "execution_count": 17,
     "metadata": {},
     "output_type": "execute_result"
    }
   ],
   "source": [
    "z.T"
   ]
  },
  {
   "cell_type": "code",
   "execution_count": 13,
   "metadata": {},
   "outputs": [
    {
     "data": {
      "text/plain": [
       "[273, 457, 365, 366, 1095, 2557]"
      ]
     },
     "execution_count": 13,
     "metadata": {},
     "output_type": "execute_result"
    }
   ],
   "source": [
    "# Days differences\n",
    "diff = [(x[1]-x[0]).days for x in list(zip(z_spot_2.maturity.tolist(), z_spot_2.maturity.tolist()[1:]))]\n",
    "diff"
   ]
  },
  {
   "cell_type": "code",
   "execution_count": 16,
   "metadata": {},
   "outputs": [
    {
     "name": "stdout",
     "output_type": "stream",
     "text": [
      "2.7416662279999997\n",
      "1.3548589767215145\n"
     ]
    }
   ],
   "source": [
    "# (1+s2)2 = (1+s1) (1+1f1)\n",
    "#######\n",
    "#######\n",
    "# T1: 2019-08-20 00:00:00\n",
    "# T2: 2021-01-01 00:00:00\n",
    "# R1: 0\n",
    "# R2: 0.3489003452664896\n",
    "# Days:  500\n",
    "# Diff:  1.36986301369863\n",
    "# 1.032518356442488\n",
    "\n",
    "print((1+0.3489)*(1+1.03252))\n",
    "print((1+0.500866)**(273/365.))\n"
   ]
  },
  {
   "cell_type": "code",
   "execution_count": null,
   "metadata": {},
   "outputs": [],
   "source": []
  },
  {
   "cell_type": "code",
   "execution_count": null,
   "metadata": {},
   "outputs": [],
   "source": []
  },
  {
   "cell_type": "code",
   "execution_count": null,
   "metadata": {},
   "outputs": [],
   "source": []
  },
  {
   "cell_type": "markdown",
   "metadata": {},
   "source": [
    "### Curva YTM"
   ]
  },
  {
   "cell_type": "code",
   "execution_count": 18,
   "metadata": {},
   "outputs": [
    {
     "name": "stderr",
     "output_type": "stream",
     "text": [
      "/home/pedro/.local/lib/python3.5/site-packages/pandas/plotting/_converter.py:129: FutureWarning: Using an implicitly registered datetime converter for a matplotlib plotting method. The converter was registered by pandas on import. Future versions of pandas will require you to explicitly register matplotlib converters.\n",
      "\n",
      "To register the converters:\n",
      "\t>>> from pandas.plotting import register_matplotlib_converters\n",
      "\t>>> register_matplotlib_converters()\n",
      "  warnings.warn(msg, FutureWarning)\n"
     ]
    },
    {
     "data": {
      "text/plain": [
       "Text(0.5, 1.0, 'FORWARD vs. YTM')"
      ]
     },
     "execution_count": 18,
     "metadata": {},
     "output_type": "execute_result"
    },
    {
     "data": {
      "image/png": "[encoded data removed]",
      "text/plain": [
       "<Figure size 1440x360 with 2 Axes>"
      ]
     },
     "metadata": {},
     "output_type": "display_data"
    }
   ],
   "source": [
    "# Plots\n",
    "fig, ax = plt.subplots(figsize=(20,5), ncols=2, nrows=1)\n",
    "\n",
    "# SPOT 2 VS YTM\n",
    "sns.lineplot(data=z_spot_2, x='maturity', y='yield', ax=ax[0], markers=[\"o\"], style=\"Curves\")\n",
    "sns.lineplot(data=z, x='maturity', y='yield', ax=ax[0], markers=[\"x\"], style=\"Curves\")\n",
    "ax[0].set_title('SPOT 2 vs. YTM')\n",
    "\n",
    "# FORWARD vs. YTM\n",
    "sns.lineplot(data=z_forward, x='maturity', y='yield', ax=ax[1], markers=[\"o\"], style=\"Curves\")\n",
    "sns.lineplot(data=z, x='maturity', y='yield', ax=ax[1], markers=[\"x\"], style=\"Curves\")\n",
    "ax[1].set_title('FORWARD vs. YTM')"
   ]
  },
  {
   "cell_type": "code",
   "execution_count": 14,
   "metadata": {},
   "outputs": [],
   "source": [
    "# spot_curve_2.maturities\n",
    "# map_maturity_yield = {}\n",
    "# for i,_ in enumerate(maturities):\n",
    "#     self.map_maturity_yield[maturities[i]] = yields[i]"
   ]
  },
  {
   "cell_type": "code",
   "execution_count": 15,
   "metadata": {},
   "outputs": [
    {
     "data": {
      "text/html": [
       "<div>\n",
       "<style scoped>\n",
       "    .dataframe tbody tr th:only-of-type {\n",
       "        vertical-align: middle;\n",
       "    }\n",
       "\n",
       "    .dataframe tbody tr th {\n",
       "        vertical-align: top;\n",
       "    }\n",
       "\n",
       "    .dataframe thead th {\n",
       "        text-align: right;\n",
       "    }\n",
       "</style>\n",
       "<table border=\"1\" class=\"dataframe\">\n",
       "  <thead>\n",
       "    <tr style=\"text-align: right;\">\n",
       "      <th></th>\n",
       "      <th>0</th>\n",
       "      <th>1</th>\n",
       "      <th>2</th>\n",
       "      <th>3</th>\n",
       "      <th>4</th>\n",
       "      <th>5</th>\n",
       "      <th>6</th>\n",
       "    </tr>\n",
       "  </thead>\n",
       "  <tbody>\n",
       "    <tr>\n",
       "      <th>maturity</th>\n",
       "      <td>2021-01-01 00:00:00</td>\n",
       "      <td>2021-10-01 00:00:00</td>\n",
       "      <td>2023-01-01 00:00:00</td>\n",
       "      <td>2024-01-01 00:00:00</td>\n",
       "      <td>2025-01-01 00:00:00</td>\n",
       "      <td>2028-01-01 00:00:00</td>\n",
       "      <td>2035-01-01 00:00:00</td>\n",
       "    </tr>\n",
       "    <tr>\n",
       "      <th>yield</th>\n",
       "      <td>0.3489</td>\n",
       "      <td>0.500866</td>\n",
       "      <td>0.293546</td>\n",
       "      <td>0.342163</td>\n",
       "      <td>0.239293</td>\n",
       "      <td>0.0860395</td>\n",
       "      <td>0.0365152</td>\n",
       "    </tr>\n",
       "    <tr>\n",
       "      <th>Curves</th>\n",
       "      <td>SPOT</td>\n",
       "      <td>SPOT</td>\n",
       "      <td>SPOT</td>\n",
       "      <td>SPOT</td>\n",
       "      <td>SPOT</td>\n",
       "      <td>SPOT</td>\n",
       "      <td>SPOT</td>\n",
       "    </tr>\n",
       "  </tbody>\n",
       "</table>\n",
       "</div>"
      ],
      "text/plain": [
       "                            0                    1                    2  \\\n",
       "maturity  2021-01-01 00:00:00  2021-10-01 00:00:00  2023-01-01 00:00:00   \n",
       "yield                  0.3489             0.500866             0.293546   \n",
       "Curves                   SPOT                 SPOT                 SPOT   \n",
       "\n",
       "                            3                    4                    5  \\\n",
       "maturity  2024-01-01 00:00:00  2025-01-01 00:00:00  2028-01-01 00:00:00   \n",
       "yield                0.342163             0.239293            0.0860395   \n",
       "Curves                   SPOT                 SPOT                 SPOT   \n",
       "\n",
       "                            6  \n",
       "maturity  2035-01-01 00:00:00  \n",
       "yield               0.0365152  \n",
       "Curves                   SPOT  "
      ]
     },
     "execution_count": 15,
     "metadata": {},
     "output_type": "execute_result"
    }
   ],
   "source": [
    "# [(x - spot_curve_2.today).days / 365. for x in spot_curve_2.maturities]\n",
    "z_spot_2.T"
   ]
  },
  {
   "cell_type": "code",
   "execution_count": 16,
   "metadata": {},
   "outputs": [
    {
     "data": {
      "text/html": [
       "<div>\n",
       "<style scoped>\n",
       "    .dataframe tbody tr th:only-of-type {\n",
       "        vertical-align: middle;\n",
       "    }\n",
       "\n",
       "    .dataframe tbody tr th {\n",
       "        vertical-align: top;\n",
       "    }\n",
       "\n",
       "    .dataframe thead th {\n",
       "        text-align: right;\n",
       "    }\n",
       "</style>\n",
       "<table border=\"1\" class=\"dataframe\">\n",
       "  <thead>\n",
       "    <tr style=\"text-align: right;\">\n",
       "      <th></th>\n",
       "      <th>0</th>\n",
       "      <th>1</th>\n",
       "      <th>2</th>\n",
       "      <th>3</th>\n",
       "      <th>4</th>\n",
       "      <th>5</th>\n",
       "    </tr>\n",
       "  </thead>\n",
       "  <tbody>\n",
       "    <tr>\n",
       "      <th>maturity</th>\n",
       "      <td>2021-10-01 00:00:00</td>\n",
       "      <td>2023-01-01 00:00:00</td>\n",
       "      <td>2024-01-01 00:00:00</td>\n",
       "      <td>2025-01-01 00:00:00</td>\n",
       "      <td>2028-01-01 00:00:00</td>\n",
       "      <td>2035-01-01 00:00:00</td>\n",
       "    </tr>\n",
       "    <tr>\n",
       "      <th>yield</th>\n",
       "      <td>-0.281511</td>\n",
       "      <td>-0.302137</td>\n",
       "      <td>-0.254934</td>\n",
       "      <td>-0.193739</td>\n",
       "      <td>-0.400476</td>\n",
       "      <td>-0.412302</td>\n",
       "    </tr>\n",
       "    <tr>\n",
       "      <th>Curves</th>\n",
       "      <td>FORWARD</td>\n",
       "      <td>FORWARD</td>\n",
       "      <td>FORWARD</td>\n",
       "      <td>FORWARD</td>\n",
       "      <td>FORWARD</td>\n",
       "      <td>FORWARD</td>\n",
       "    </tr>\n",
       "  </tbody>\n",
       "</table>\n",
       "</div>"
      ],
      "text/plain": [
       "                            0                    1                    2  \\\n",
       "maturity  2021-10-01 00:00:00  2023-01-01 00:00:00  2024-01-01 00:00:00   \n",
       "yield               -0.281511            -0.302137            -0.254934   \n",
       "Curves                FORWARD              FORWARD              FORWARD   \n",
       "\n",
       "                            3                    4                    5  \n",
       "maturity  2025-01-01 00:00:00  2028-01-01 00:00:00  2035-01-01 00:00:00  \n",
       "yield               -0.193739            -0.400476            -0.412302  \n",
       "Curves                FORWARD              FORWARD              FORWARD  "
      ]
     },
     "execution_count": 16,
     "metadata": {},
     "output_type": "execute_result"
    }
   ],
   "source": [
    "# spot_curve_2.yields\n",
    "z_forward.T"
   ]
  },
  {
   "cell_type": "code",
   "execution_count": 20,
   "metadata": {},
   "outputs": [
    {
     "name": "stdout",
     "output_type": "stream",
     "text": [
      "0.07002358490566007\n",
      "0.6791044776119401\n"
     ]
    }
   ],
   "source": [
    "# (1+0.34)*(1+0.77)\n",
    "# 1F1 (one year forward, 1 year from now): (1+s2)**2/(1+s1) – 1\n",
    "def calculate_forward_rate(T1, T2, R1, R2):\n",
    "#     return (R2*T2 - R1*T1)/(T2 - T1)\n",
    "    return (1+R2)**(1+T2-T1)/(1+R1) - 1\n",
    "\n",
    "print(calculate_forward_rate(3,4,0.06,0.065))\n",
    "print(calculate_forward_rate(3,4,0.34,0.5))"
   ]
  },
  {
   "cell_type": "code",
   "execution_count": 24,
   "metadata": {},
   "outputs": [
    {
     "data": {
      "text/plain": [
       "0.8582345666609879"
      ]
     },
     "execution_count": 24,
     "metadata": {},
     "output_type": "execute_result"
    }
   ],
   "source": [
    "# (forward_curve.maturities[1] - forward_curve.maturities[0]).days / 365.\n",
    "(1+0.5)**(1+1.25)/(1+0.34) - 1"
   ]
  },
  {
   "cell_type": "code",
   "execution_count": 18,
   "metadata": {},
   "outputs": [
    {
     "ename": "AttributeError",
     "evalue": "'ForwardCurve' object has no attribute 'map_maturity_yield'",
     "output_type": "error",
     "traceback": [
      "\u001b[0;31m---------------------------------------------------------------------------\u001b[0m",
      "\u001b[0;31mAttributeError\u001b[0m                            Traceback (most recent call last)",
      "\u001b[0;32m<ipython-input-18-f999b5530afd>\u001b[0m in \u001b[0;36m<module>\u001b[0;34m()\u001b[0m\n\u001b[1;32m      3\u001b[0m \u001b[0;32mfor\u001b[0m \u001b[0mi\u001b[0m\u001b[0;34m,\u001b[0m \u001b[0mT\u001b[0m \u001b[0;32min\u001b[0m \u001b[0menumerate\u001b[0m\u001b[0;34m(\u001b[0m\u001b[0mzip\u001b[0m\u001b[0;34m(\u001b[0m\u001b[0mperiods\u001b[0m\u001b[0;34m,\u001b[0m \u001b[0mperiods\u001b[0m\u001b[0;34m[\u001b[0m\u001b[0;36m1\u001b[0m\u001b[0;34m:\u001b[0m\u001b[0;34m]\u001b[0m\u001b[0;34m)\u001b[0m\u001b[0;34m)\u001b[0m\u001b[0;34m:\u001b[0m\u001b[0;34m\u001b[0m\u001b[0m\n\u001b[1;32m      4\u001b[0m     \u001b[0mT2\u001b[0m\u001b[0;34m,\u001b[0m \u001b[0mT1\u001b[0m \u001b[0;34m=\u001b[0m \u001b[0mT\u001b[0m\u001b[0;34m\u001b[0m\u001b[0m\n\u001b[0;32m----> 5\u001b[0;31m     \u001b[0mR1\u001b[0m \u001b[0;34m=\u001b[0m \u001b[0mforward_curve\u001b[0m\u001b[0;34m.\u001b[0m\u001b[0mmap_maturity_yield\u001b[0m\u001b[0;34m[\u001b[0m\u001b[0mT1\u001b[0m\u001b[0;34m]\u001b[0m\u001b[0;34m\u001b[0m\u001b[0m\n\u001b[0m\u001b[1;32m      6\u001b[0m     \u001b[0mR2\u001b[0m \u001b[0;34m=\u001b[0m \u001b[0mforward_curve\u001b[0m\u001b[0;34m.\u001b[0m\u001b[0mmap_maturity_yield\u001b[0m\u001b[0;34m[\u001b[0m\u001b[0mT2\u001b[0m\u001b[0;34m]\u001b[0m\u001b[0;34m\u001b[0m\u001b[0m\n\u001b[1;32m      7\u001b[0m     \u001b[0mdiff\u001b[0m \u001b[0;34m=\u001b[0m \u001b[0;34m(\u001b[0m\u001b[0mT2\u001b[0m \u001b[0;34m-\u001b[0m \u001b[0mT1\u001b[0m\u001b[0;34m)\u001b[0m\u001b[0;34m.\u001b[0m\u001b[0mdays\u001b[0m \u001b[0;34m/\u001b[0m \u001b[0;36m365.\u001b[0m\u001b[0;34m\u001b[0m\u001b[0m\n",
      "\u001b[0;31mAttributeError\u001b[0m: 'ForwardCurve' object has no attribute 'map_maturity_yield'"
     ]
    }
   ],
   "source": [
    "forward_rates = []\n",
    "periods = forward_curve.maturities\n",
    "for i, T in enumerate(zip(periods, periods[1:])):\n",
    "    T2, T1 = T\n",
    "    R1 = forward_curve.map_maturity_yield[T1]\n",
    "    R2 = forward_curve.map_maturity_yield[T2]\n",
    "    diff = (T2 - T1).days / 365.\n",
    "\n",
    "    forward_rate = (1+R2)**(1+diff)/(1+R1) - 1\n",
    "    forward_rates.append(forward_rate)\n",
    "forward_rates"
   ]
  },
  {
   "cell_type": "code",
   "execution_count": null,
   "metadata": {},
   "outputs": [],
   "source": []
  },
  {
   "cell_type": "code",
   "execution_count": null,
   "metadata": {},
   "outputs": [],
   "source": []
  },
  {
   "cell_type": "code",
   "execution_count": null,
   "metadata": {},
   "outputs": [],
   "source": []
  },
  {
   "cell_type": "code",
   "execution_count": null,
   "metadata": {},
   "outputs": [],
   "source": []
  },
  {
   "cell_type": "code",
   "execution_count": null,
   "metadata": {},
   "outputs": [],
   "source": []
  },
  {
   "cell_type": "markdown",
   "metadata": {},
   "source": [
    "### Curva Spot"
   ]
  },
  {
   "cell_type": "code",
   "execution_count": 16,
   "metadata": {},
   "outputs": [
    {
     "data": {
      "text/plain": [
       "Text(0.5, 1.0, 'SPOT vs. YTM')"
      ]
     },
     "execution_count": 16,
     "metadata": {},
     "output_type": "execute_result"
    },
    {
     "data": {
      "image/png": "[encoded data removed]",
      "text/plain": [
       "<Figure size 1440x360 with 2 Axes>"
      ]
     },
     "metadata": {},
     "output_type": "display_data"
    }
   ],
   "source": [
    "# Plots\n",
    "fig, ax = plt.subplots(figsize=(20,5), ncols=2, nrows=1)\n",
    "\n",
    "# BOTh\n",
    "sns.lineplot(data=z, x='maturity', y='yield', ax=ax[0], markers=[\"o\"], style=\"Curves\")\n",
    "sns.lineplot(data=z_interpolated, x='maturity', y='yield', ax=ax[0], markers=[\"X\"], style=\"Curves\")\n",
    "ax[0].set_title('YTMs vs. Interpolated')\n",
    "\n",
    "# SPOT vs. YTM\n",
    "sns.lineplot(data=z_spot, x='maturity', y='yield', ax=ax[1], markers=[\"o\"], style=\"Curves\")\n",
    "sns.lineplot(data=z, x='maturity', y='yield', ax=ax[1], markers=[\"x\"], style=\"Curves\")\n",
    "ax[1].set_title('SPOT vs. YTM')\n"
   ]
  },
  {
   "cell_type": "code",
   "execution_count": null,
   "metadata": {},
   "outputs": [],
   "source": []
  },
  {
   "cell_type": "code",
   "execution_count": null,
   "metadata": {},
   "outputs": [],
   "source": []
  },
  {
   "cell_type": "code",
   "execution_count": null,
   "metadata": {},
   "outputs": [],
   "source": []
  },
  {
   "cell_type": "code",
   "execution_count": null,
   "metadata": {},
   "outputs": [],
   "source": []
  },
  {
   "cell_type": "code",
   "execution_count": null,
   "metadata": {},
   "outputs": [],
   "source": []
  },
  {
   "cell_type": "code",
   "execution_count": null,
   "metadata": {},
   "outputs": [],
   "source": []
  },
  {
   "cell_type": "code",
   "execution_count": null,
   "metadata": {},
   "outputs": [],
   "source": []
  },
  {
   "cell_type": "code",
   "execution_count": null,
   "metadata": {},
   "outputs": [],
   "source": []
  },
  {
   "cell_type": "code",
   "execution_count": null,
   "metadata": {},
   "outputs": [],
   "source": []
  }
 ],
 "metadata": {
  "kernelspec": {
   "display_name": "Python 3",
   "language": "python",
   "name": "python3"
  },
  "language_info": {
   "codemirror_mode": {
    "name": "ipython",
    "version": 3
   },
   "file_extension": ".py",
   "mimetype": "text/x-python",
   "name": "python",
   "nbconvert_exporter": "python",
   "pygments_lexer": "ipython3",
   "version": "3.6.5"
  }
 },
 "nbformat": 4,
 "nbformat_minor": 2
}
