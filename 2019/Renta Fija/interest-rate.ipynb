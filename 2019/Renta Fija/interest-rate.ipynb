{
 "cells": [
  {
   "cell_type": "code",
   "execution_count": 1,
   "metadata": {},
   "outputs": [],
   "source": [
    "import QuantLib as ql\n",
    "import pandas as pd\n",
    "\n",
    "# http://gouthamanbalaraman.com/blog/quantlib-python-tutorials-with-examples.html\n",
    "# https://en.wikipedia.org/wiki/Day_count_convention#Actual/Actual_AFB\n",
    "# http://gouthamanbalaraman.com/blog/quantlib-bond-modeling.html\n",
    "# https://www.youtube.com/watch?v=__PBUqjCy6E&list=PLu_PrO8j6XAvOAlZND9WUPwTHY_GYhJVr\n",
    "# https://github.com/wilsonfreitas/awesome-quant\n",
    "# http://cogitolearning.co.uk/2013/05/quantlib-yield-curves/\n",
    "# "
   ]
  },
  {
   "cell_type": "markdown",
   "metadata": {},
   "source": [
    "### Interest Rate"
   ]
  },
  {
   "cell_type": "code",
   "execution_count": 2,
   "metadata": {},
   "outputs": [
    {
     "name": "stdout",
     "output_type": "stream",
     "text": [
      "[Date(2,1,2015), Date(2,2,2015), Date(2,3,2015), Date(1,4,2015), Date(1,5,2015), Date(1,6,2015), Date(1,7,2015), Date(3,8,2015), Date(1,9,2015), Date(1,10,2015), Date(2,11,2015), Date(1,12,2015), Date(4,1,2016)]\n"
     ]
    }
   ],
   "source": [
    "date1 = ql.Date(1, 1, 2015)\n",
    "date2 = ql.Date(1, 1, 2016)\n",
    "tenor = ql.Period(ql.Monthly)\n",
    "calendar = ql.UnitedStates()\n",
    "\n",
    "schedule = ql.Schedule(date1, date2, tenor, calendar, ql.Following,\n",
    "                           ql.Following, ql.DateGeneration.Forward, False)\n",
    "print(list(schedule))"
   ]
  },
  {
   "cell_type": "code",
   "execution_count": 3,
   "metadata": {},
   "outputs": [],
   "source": [
    "# tenor.__dir__()\n",
    "# tenor.frequency()\n",
    "# date1.year()\n",
    "# ql.Daily\n",
    "# ql.Following"
   ]
  },
  {
   "cell_type": "code",
   "execution_count": 4,
   "metadata": {},
   "outputs": [],
   "source": [
    "annualRate = 0.05\n",
    "dayCount_actualactual = ql.ActualActual()\n",
    "dayCount_actual360 = ql.Actual360()\n",
    "compoundType = ql.Compounded\n",
    "\n",
    "freq_annual = ql.Annual\n",
    "freq_semiannual = ql.Semiannual\n",
    "\n",
    "interestRate = ql.InterestRate(annualRate, dayCount_actual360, compoundType, freq_annual)\n",
    "\n",
    "# interestRate.__dir__()\n",
    "# interestRate.compounding()\n",
    "# interestRate.compoundFactor(4)"
   ]
  },
  {
   "cell_type": "code",
   "execution_count": 5,
   "metadata": {},
   "outputs": [
    {
     "name": "stdout",
     "output_type": "stream",
     "text": [
      "0.9759000729485331 0.9759000729485331\n",
      "0.9523809523809523 0.9523809523809521\n",
      "1.02469507659596 1.02469507659596\n",
      "1.05 1.0500000000000003\n"
     ]
    }
   ],
   "source": [
    "# Compounding: look for equivalent yield for a semiannual frequency\n",
    "i1 = ql.InterestRate(annualRate, dayCount_actual360, compoundType, freq_annual)\n",
    "\n",
    "i2 = i1.equivalentRate(compoundType, freq_semiannual, 1)\n",
    "\n",
    "print (i1.discountFactor(0.5), i2.discountFactor(0.5))\n",
    "print (i1.discountFactor(1), i2.discountFactor(1))\n",
    "\n",
    "print (i1.compoundFactor(0.5), i2.compoundFactor(0.5))\n",
    "print (i1.compoundFactor(1), i2.compoundFactor(1))"
   ]
  },
  {
   "cell_type": "markdown",
   "metadata": {},
   "source": [
    "### Fixed Rate bond"
   ]
  },
  {
   "cell_type": "code",
   "execution_count": 6,
   "metadata": {},
   "outputs": [
    {
     "name": "stdout",
     "output_type": "stream",
     "text": [
      "0.06000000000000005 0.06000000000000005\n",
      "[0.0078916, 0.0166719, 0.0246951, 0.0330616, 0.0412141, 0.0497154, 0.0515493, 0.0531564, 0.0548215, 0.0564336, 0.0581038, 0.0597209]\n"
     ]
    }
   ],
   "source": [
    "# EJEMPLO 1\n",
    "# Bond: par value = 100, coupon semiannual 6%. \n",
    "# Issue: January 15th, 2015. Maturity: January 15th, 2016\n",
    "\n",
    "todaysDate = ql.Date(15, 1, 2015)\n",
    "\n",
    "spotDates = [ql.Date(15, 1, 2015), ql.Date(15, 7, 2015), ql.Date(15, 1, 2016), ql.Date(15,7,2016)]\n",
    "spotRates = [0.0, 0.05, 0.06, 0.07]\n",
    "\n",
    "dayCount = ql.Thirty360()\n",
    "calendar = ql.Argentina()\n",
    "interpolation = ql.Linear()\n",
    "compounding = ql.Compounded\n",
    "compoundingFrequency = ql.Annual\n",
    "spotCurve = ql.ZeroCurve(spotDates, spotRates, dayCount, calendar, interpolation, compounding, compoundingFrequency)\n",
    "spotCurveHandle = ql.YieldTermStructureHandle(spotCurve)\n",
    "\n",
    "# spotCurve.__dir__()\n",
    "# spotCurve.nodes()\n",
    "# spotCurve.data()\n",
    "# spotCurve.referenceDate()\n",
    "\n",
    "# spotCurveHandle.__dir__()\n",
    "\n",
    "# Zero-Rate curve for each time \n",
    "comp1 = spotCurveHandle.zeroRate(1, compounding).rate()\n",
    "comp2 = spotCurveHandle.zeroRate(todaysDate+365, dayCount, compounding, compoundingFrequency).rate()\n",
    "print (comp1, comp2)\n",
    "\n",
    "# Zero-Rate curve for each time \n",
    "print ([round(spotCurveHandle.zeroRate(todaysDate+30*d, dayCount, compounding, compoundingFrequency).rate(),7) for d in range(1,12+1)])\n",
    "    "
   ]
  },
  {
   "cell_type": "code",
   "execution_count": 17,
   "metadata": {},
   "outputs": [],
   "source": [
    "# TODO: AmortizingFixedRateBond\n",
    "# TODO: "
   ]
  },
  {
   "cell_type": "code",
   "execution_count": null,
   "metadata": {},
   "outputs": [],
   "source": []
  },
  {
   "cell_type": "code",
   "execution_count": null,
   "metadata": {},
   "outputs": [],
   "source": []
  }
 ],
 "metadata": {
  "kernelspec": {
   "display_name": "Python 3",
   "language": "python",
   "name": "python3"
  },
  "language_info": {
   "codemirror_mode": {
    "name": "ipython",
    "version": 3
   },
   "file_extension": ".py",
   "mimetype": "text/x-python",
   "name": "python",
   "nbconvert_exporter": "python",
   "pygments_lexer": "ipython3",
   "version": "3.6.5"
  }
 },
 "nbformat": 4,
 "nbformat_minor": 2
}
