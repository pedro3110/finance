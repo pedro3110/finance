{
 "cells": [
  {
   "cell_type": "code",
   "execution_count": 1,
   "metadata": {},
   "outputs": [],
   "source": [
    "from QuantLib import *\n",
    "import QuantLib as ql\n",
    "import pandas as pd\n",
    "\n",
    "from IPython.core.interactiveshell import InteractiveShell\n",
    "InteractiveShell.ast_node_interactivity = \"all\"\n",
    "\n",
    "import sys, os\n",
    "cwd = os.getcwd()\n",
    "sys.path.append(cwd)"
   ]
  },
  {
   "cell_type": "code",
   "execution_count": 2,
   "metadata": {},
   "outputs": [
    {
     "ename": "ImportError",
     "evalue": "cannot import name 'Cashflow'",
     "output_type": "error",
     "traceback": [
      "\u001b[0;31m---------------------------------------------------------------------------\u001b[0m",
      "\u001b[0;31mImportError\u001b[0m                               Traceback (most recent call last)",
      "\u001b[0;32m<ipython-input-2-65d5feb195d2>\u001b[0m in \u001b[0;36m<module>\u001b[0;34m\u001b[0m\n\u001b[0;32m----> 1\u001b[0;31m \u001b[0;32mfrom\u001b[0m \u001b[0mmodules\u001b[0m\u001b[0;34m.\u001b[0m\u001b[0mcashflow\u001b[0m \u001b[0;32mimport\u001b[0m \u001b[0mCashflow\u001b[0m\u001b[0;34m\u001b[0m\u001b[0m\n\u001b[0m",
      "\u001b[0;31mImportError\u001b[0m: cannot import name 'Cashflow'"
     ]
    }
   ],
   "source": [
    "from modules.cashflow import Cashflow"
   ]
  },
  {
   "cell_type": "code",
   "execution_count": 5,
   "metadata": {},
   "outputs": [
    {
     "ename": "TypeError",
     "evalue": "__init__() missing 1 required positional argument: 'cashflow'",
     "output_type": "error",
     "traceback": [
      "\u001b[0;31m---------------------------------------------------------------------------\u001b[0m",
      "\u001b[0;31mTypeError\u001b[0m                                 Traceback (most recent call last)",
      "\u001b[0;32m<ipython-input-5-b885960b7496>\u001b[0m in \u001b[0;36m<module>\u001b[0;34m\u001b[0m\n\u001b[0;32m----> 1\u001b[0;31m \u001b[0mx\u001b[0m \u001b[0;34m=\u001b[0m \u001b[0mCashFlow\u001b[0m\u001b[0;34m(\u001b[0m\u001b[0;34m)\u001b[0m\u001b[0;34m\u001b[0m\u001b[0m\n\u001b[0m",
      "\u001b[0;31mTypeError\u001b[0m: __init__() missing 1 required positional argument: 'cashflow'"
     ]
    }
   ],
   "source": []
  },
  {
   "cell_type": "code",
   "execution_count": 106,
   "metadata": {},
   "outputs": [],
   "source": [
    "ay21 = pd.read_excel(open('../Portfolio.xlsx', 'rb'), sheet_name='AY21')[['Fecha de Pago', 'Cash Flow']]\n",
    "ay24 = pd.read_excel(open('../Portfolio.xlsx', 'rb'), sheet_name='AY24')[['Fecha de Pago', 'Cash Flow']]\n",
    "aa25d = pd.read_excel(open('../Portfolio.xlsx', 'rb'), sheet_name='AA25D')[['Fecha de Pago', 'Cash Flow']]"
   ]
  },
  {
   "cell_type": "code",
   "execution_count": 107,
   "metadata": {},
   "outputs": [],
   "source": [
    "sheet_names = ['AY21', 'AY24', 'TO21', 'AA25D']\n",
    "dfs = []\n",
    "for sheet_name in sheet_names:\n",
    "    new_df = pd.read_excel(open('../Portfolio.xlsx', 'rb'), sheet_name=sheet_name)[['Fecha de Pago', 'Cash Flow']]\n",
    "    new_df['Bond'] = sheet_name\n",
    "    new_df['Cash Flow'] = new_df['Cash Flow'].apply(lambda cf: cf.replace(',','.'))\n",
    "    new_df['Cash Flow'] = pd.to_numeric(new_df['Cash Flow'])\n",
    "    new_df['Price'] = -new_df.iloc[0]['Cash Flow']\n",
    "    new_df = new_df.drop(0)\n",
    "    new_df['Fecha de Pago'] = pd.to_datetime(new_df['Fecha de Pago'])\n",
    "    dfs.append(new_df)\n",
    "df = pd.concat(dfs, 0)"
   ]
  },
  {
   "cell_type": "code",
   "execution_count": 108,
   "metadata": {},
   "outputs": [],
   "source": [
    "today = datetime.datetime.today()\n",
    "\n",
    "todaysDate = ql.Date(today.weekday(), today.month, today.year)\n",
    "ql.Settings.instance().evaluationDate = todaysDate"
   ]
  },
  {
   "cell_type": "markdown",
   "metadata": {},
   "source": [
    "### TO21"
   ]
  },
  {
   "cell_type": "code",
   "execution_count": 125,
   "metadata": {},
   "outputs": [
    {
     "data": {
      "text/html": [
       "<div>\n",
       "<style scoped>\n",
       "    .dataframe tbody tr th:only-of-type {\n",
       "        vertical-align: middle;\n",
       "    }\n",
       "\n",
       "    .dataframe tbody tr th {\n",
       "        vertical-align: top;\n",
       "    }\n",
       "\n",
       "    .dataframe thead th {\n",
       "        text-align: right;\n",
       "    }\n",
       "</style>\n",
       "<table border=\"1\" class=\"dataframe\">\n",
       "  <thead>\n",
       "    <tr style=\"text-align: right;\">\n",
       "      <th></th>\n",
       "      <th>1</th>\n",
       "      <th>2</th>\n",
       "      <th>3</th>\n",
       "      <th>4</th>\n",
       "      <th>5</th>\n",
       "    </tr>\n",
       "  </thead>\n",
       "  <tbody>\n",
       "    <tr>\n",
       "      <th>Fecha de Pago</th>\n",
       "      <td>2019-03-10 00:00:00</td>\n",
       "      <td>2020-03-04 00:00:00</td>\n",
       "      <td>2020-03-10 00:00:00</td>\n",
       "      <td>2021-03-04 00:00:00</td>\n",
       "      <td>2021-03-10 00:00:00</td>\n",
       "    </tr>\n",
       "    <tr>\n",
       "      <th>Cash Flow</th>\n",
       "      <td>9.1</td>\n",
       "      <td>9.1</td>\n",
       "      <td>9.1</td>\n",
       "      <td>9.1</td>\n",
       "      <td>109.1</td>\n",
       "    </tr>\n",
       "    <tr>\n",
       "      <th>Bond</th>\n",
       "      <td>TO21</td>\n",
       "      <td>TO21</td>\n",
       "      <td>TO21</td>\n",
       "      <td>TO21</td>\n",
       "      <td>TO21</td>\n",
       "    </tr>\n",
       "    <tr>\n",
       "      <th>Price</th>\n",
       "      <td>72</td>\n",
       "      <td>72</td>\n",
       "      <td>72</td>\n",
       "      <td>72</td>\n",
       "      <td>72</td>\n",
       "    </tr>\n",
       "  </tbody>\n",
       "</table>\n",
       "</div>"
      ],
      "text/plain": [
       "                                 1                    2                    3  \\\n",
       "Fecha de Pago  2019-03-10 00:00:00  2020-03-04 00:00:00  2020-03-10 00:00:00   \n",
       "Cash Flow                      9.1                  9.1                  9.1   \n",
       "Bond                          TO21                 TO21                 TO21   \n",
       "Price                           72                   72                   72   \n",
       "\n",
       "                                 4                    5  \n",
       "Fecha de Pago  2021-03-04 00:00:00  2021-03-10 00:00:00  \n",
       "Cash Flow                      9.1                109.1  \n",
       "Bond                          TO21                 TO21  \n",
       "Price                           72                   72  "
      ]
     },
     "execution_count": 125,
     "metadata": {},
     "output_type": "execute_result"
    },
    {
     "name": "stdout",
     "output_type": "stream",
     "text": [
      "PAYMENTS: [Date(3,10,2019), Date(3,4,2020), Date(3,10,2020), Date(3,4,2021), Date(3,10,2021), Date(3,10,2021)]\n",
      "COUPONS: [0.81, 4.55, 4.55, 4.55, 54.55, 100.0]\n",
      "YTM: 0.4418171187662839\n"
     ]
    }
   ],
   "source": [
    "# Pricing of bond\n",
    "to21 = df[df.Bond=='TO21']\n",
    "\n",
    "calendar = ql.Argentina()\n",
    "dayCount = ql.Thirty360()\n",
    "compounding = ql.Compounded\n",
    "\n",
    "compounding = ql.Compounded\n",
    "compoundingFrequency = ql.Semiannual\n",
    "tenor = ql.Period(compoundingFrequency)\n",
    "faceValue = 100\n",
    "settlementDays = 0\n",
    "\n",
    "coupons = [x/100 for x in to21['Cash Flow']]\n",
    "b = ql.FixedRateBond(settlementDays, calendar, faceValue, \n",
    "                     ql.Date(1, 9, 2019), ql.Date(3, 10, 2021), tenor, coupons, dayCount, ql.Unadjusted, ql.Unadjusted)\n",
    "\n",
    "market_price = to21['Price'].values[0]\n",
    "\n",
    "# DEBERIA DAR: 45.93%\n",
    "to21.T\n",
    "print ('PAYMENTS:', [cf.date() for cf in b.cashflows()])\n",
    "print ('COUPONS:', [round(cf.amount(),2) for cf in b.cashflows()])\n",
    "ytm = b.bondYield(market_price, dayCount, compounding, compoundingFrequency)\n",
    "print ('YTM:', ytm)\n"
   ]
  },
  {
   "cell_type": "code",
   "execution_count": 119,
   "metadata": {},
   "outputs": [
    {
     "data": {
      "text/plain": [
       "54.55000000000001"
      ]
     },
     "execution_count": 119,
     "metadata": {},
     "output_type": "execute_result"
    }
   ],
   "source": [
    "# b.cashflows()[4].amount()"
   ]
  },
  {
   "cell_type": "code",
   "execution_count": 111,
   "metadata": {},
   "outputs": [],
   "source": [
    "# schedule = ql.Schedule(ql.Date(1, 9, 2019), ql.Date(3, 10, 2021), tenor, calendar, \n",
    "#                        ql.Unadjusted, ql.Unadjusted, ql.DateGeneration.Backward, False)\n",
    "# print(list(schedule))"
   ]
  },
  {
   "cell_type": "code",
   "execution_count": 93,
   "metadata": {},
   "outputs": [],
   "source": [
    "# ql.FixedRateBondHelper(ql.SimpleQuote(faceValue), \n",
    "#                        settlementDays, \n",
    "#                        faceValue, \n",
    "#                        schedule, \n",
    "#                        coupons, dayCount)"
   ]
  },
  {
   "cell_type": "code",
   "execution_count": 130,
   "metadata": {},
   "outputs": [
    {
     "name": "stdout",
     "output_type": "stream",
     "text": [
      "PAYMENTS: [Date(3,10,2019), Date(3,4,2020), Date(3,10,2020), Date(3,4,2021), Date(3,10,2021), Date(3,10,2021)]\n",
      "COUPONS: [0.81, 4.55, 4.55, 4.55, 54.55, 100.0]\n"
     ]
    }
   ],
   "source": [
    "# FixedRateBondPtr::FixedRateBondPtr(\n",
    "#     Integer,Calendar const &,Real,Date const &,Date const &,Period const &,\n",
    "#     std::vector< Rate,std::allocator< Rate > > const &,DayCounter const &,BusinessDayConvention,BusinessDayConvention,\n",
    "#     Real, Date const &,Date const &,DateGeneration::Rule,bool,Calendar const &,Period const &,Calendar const &,\n",
    "#     BusinessDayConvention const,bool)\n",
    "\n",
    "# FixedRateBond (Natural settlementDays, Real faceAmount, const Schedule &schedule, const std::vector< InterestRate > &coupons, \n",
    "#                BusinessDayConvention paymentConvention=Following, Real redemption=100.0, const Date &issueDate=Date(), \n",
    "#                const Calendar &paymentCalendar=Calendar(), const Period &exCouponPeriod=Period(), \n",
    "#                const Calendar &exCouponCalendar=Calendar(), const BusinessDayConvention exCouponConvention=Unadjusted, \n",
    "#                bool exCouponEndOfMonth=false)\n",
    "\n",
    "# FixedRateBond (Natural settlementDays, const Calendar &couponCalendar, Real faceAmount, const Date &startDate, const Date &maturityDate, \n",
    "#                const Period &tenor, const std::vector< Rate > &coupons, const DayCounter &accrualDayCounter, \n",
    "#                BusinessDayConvention accrualConvention=Following, BusinessDayConvention paymentConvention=Following, Real redemption=100.0, \n",
    "#                const Date &issueDate=Date(), const Date &stubDate=Date(), DateGeneration::Rule rule=DateGeneration::Backward, \n",
    "#                bool endOfMonth=false, const Calendar &paymentCalendar=Calendar(), const Period &exCouponPeriod=Period(), \n",
    "#                const Calendar &exCouponCalendar=Calendar(), const BusinessDayConvention exCouponConvention=Unadjusted, \n",
    "#                bool exCouponEndOfMonth=false)\n",
    "\n",
    "accrual_convention = ql.Unadjusted\n",
    "payment_convention = ql.Unadjusted\n",
    "b = ql.FixedRateBond(settlementDays, calendar, faceValue, ql.Date(1, 9, 2019), ql.Date(3, 10, 2021), \n",
    "                     tenor, coupons, dayCount, \n",
    "                     accrual_convention, payment_convention, 100,\n",
    "                    )#,\n",
    "                     #faceValue, ql.Date(1, 9, 2019), ql.Date(3, 10, 2021), False, calendar, tenor, calendar, ql.Unadjusted, False)\n",
    "\n",
    "print ('PAYMENTS:', [cf.date() for cf in b.cashflows()])\n",
    "print ('COUPONS:', [round(cf.amount(),2) for cf in b.cashflows()])"
   ]
  },
  {
   "cell_type": "code",
   "execution_count": 188,
   "metadata": {},
   "outputs": [
    {
     "name": "stdout",
     "output_type": "stream",
     "text": [
      "0.373337044395566\n",
      "62.77647757816803\n",
      "PAYMENTS: [Date(3,10,2019), Date(3,4,2020), Date(3,10,2020), Date(3,4,2021), Date(3,10,2021), Date(3,10,2021)]\n",
      "COUPONS: [9.1, 9.1, 9.1, 9.1, 9.1, 100.0]\n"
     ]
    }
   ],
   "source": [
    "Settings.instance().evaluationDate = Date(3,7,2019)\n",
    "\n",
    "schedule = Schedule(Date(3,4,2019), Date(3,10,2021), Period(6,Months),\n",
    "                    NullCalendar(), Following, Following,\n",
    "                    DateGeneration.Forward, False)\n",
    "\n",
    "# day_convention = Thirty360(ActualActual.ISMA)\n",
    "day_convention = Thirty360(Thirty360.BondBasis)\n",
    "\n",
    "coupons = [2*x/100 for x in to21['Cash Flow']]\n",
    "coupons[4] = 2*9.1/100\n",
    "\n",
    "bond = FixedRateBond(0, 100.0, schedule, coupons, day_convention)\n",
    "\n",
    "print(bond.bondYield(72, day_convention, Simple, Semiannual))\n",
    "print(bond.cleanPrice(0.46, day_convention, Simple, Semiannual))\n",
    "\n",
    "print ('PAYMENTS:', [cf.date() for cf in bond.cashflows()])\n",
    "print ('COUPONS:', [round(cf.amount(),2) for cf in bond.cashflows()])"
   ]
  },
  {
   "cell_type": "code",
   "execution_count": 186,
   "metadata": {},
   "outputs": [
    {
     "data": {
      "text/plain": [
       "[0.182, 0.182, 0.182, 0.182, 2.182]"
      ]
     },
     "execution_count": 186,
     "metadata": {},
     "output_type": "execute_result"
    }
   ],
   "source": [
    "coupons"
   ]
  },
  {
   "cell_type": "code",
   "execution_count": 168,
   "metadata": {},
   "outputs": [
    {
     "name": "stdout",
     "output_type": "stream",
     "text": [
      "100.0\n",
      "PAYMENTS: [Date(6,9,2008), Date(6,3,2009), Date(6,9,2009), Date(6,3,2010), Date(6,3,2010)]\n",
      "COUPONS: [1.0, 1.0, 1.0, 1.0, 100.0]\n"
     ]
    }
   ],
   "source": [
    "Settings.instance().evaluationDate = Date(6,3,2008)\n",
    "\n",
    "schedule = Schedule(Date(6,3,2008), Date(6,3,2010), Period(6,Months),\n",
    "                    NullCalendar(), Following, Following,\n",
    "                    DateGeneration.Forward, False)\n",
    "\n",
    "bond = FixedRateBond(0, 100.0, schedule, [0.02], ActualActual(ActualActual.ISMA))\n",
    "\n",
    "print(bond.cleanPrice(0.02, ActualActual(ActualActual.ISMA), Simple, Semiannual))\n",
    "print ('PAYMENTS:', [cf.date() for cf in bond.cashflows()])\n",
    "print ('COUPONS:', [round(cf.amount(),2) for cf in bond.cashflows()])"
   ]
  },
  {
   "cell_type": "code",
   "execution_count": null,
   "metadata": {},
   "outputs": [],
   "source": []
  },
  {
   "cell_type": "code",
   "execution_count": null,
   "metadata": {},
   "outputs": [],
   "source": []
  },
  {
   "cell_type": "code",
   "execution_count": null,
   "metadata": {},
   "outputs": [],
   "source": []
  },
  {
   "cell_type": "code",
   "execution_count": null,
   "metadata": {},
   "outputs": [],
   "source": []
  },
  {
   "cell_type": "markdown",
   "metadata": {},
   "source": [
    "### AA25D (ver caso de schedule con intervalos no todos iguales)"
   ]
  },
  {
   "cell_type": "code",
   "execution_count": 75,
   "metadata": {},
   "outputs": [
    {
     "data": {
      "text/html": [
       "<div>\n",
       "<style scoped>\n",
       "    .dataframe tbody tr th:only-of-type {\n",
       "        vertical-align: middle;\n",
       "    }\n",
       "\n",
       "    .dataframe tbody tr th {\n",
       "        vertical-align: top;\n",
       "    }\n",
       "\n",
       "    .dataframe thead th {\n",
       "        text-align: right;\n",
       "    }\n",
       "</style>\n",
       "<table border=\"1\" class=\"dataframe\">\n",
       "  <thead>\n",
       "    <tr style=\"text-align: right;\">\n",
       "      <th></th>\n",
       "      <th>1</th>\n",
       "      <th>2</th>\n",
       "      <th>3</th>\n",
       "      <th>4</th>\n",
       "      <th>5</th>\n",
       "      <th>6</th>\n",
       "      <th>7</th>\n",
       "      <th>8</th>\n",
       "      <th>9</th>\n",
       "      <th>10</th>\n",
       "      <th>11</th>\n",
       "      <th>12</th>\n",
       "    </tr>\n",
       "  </thead>\n",
       "  <tbody>\n",
       "    <tr>\n",
       "      <th>Fecha de Pago</th>\n",
       "      <td>2019-10-18 00:00:00</td>\n",
       "      <td>2020-04-18 00:00:00</td>\n",
       "      <td>2020-10-18 00:00:00</td>\n",
       "      <td>2021-04-18 00:00:00</td>\n",
       "      <td>2021-10-18 00:00:00</td>\n",
       "      <td>2022-04-18 00:00:00</td>\n",
       "      <td>2022-10-18 00:00:00</td>\n",
       "      <td>2023-04-18 00:00:00</td>\n",
       "      <td>2023-10-18 00:00:00</td>\n",
       "      <td>2024-04-18 00:00:00</td>\n",
       "      <td>2024-10-18 00:00:00</td>\n",
       "      <td>2025-04-18 00:00:00</td>\n",
       "    </tr>\n",
       "    <tr>\n",
       "      <th>Cash Flow</th>\n",
       "      <td>2.88</td>\n",
       "      <td>2.88</td>\n",
       "      <td>2.88</td>\n",
       "      <td>2.88</td>\n",
       "      <td>2.88</td>\n",
       "      <td>2.88</td>\n",
       "      <td>2.88</td>\n",
       "      <td>35.88</td>\n",
       "      <td>1.93</td>\n",
       "      <td>34.93</td>\n",
       "      <td>0.98</td>\n",
       "      <td>34.98</td>\n",
       "    </tr>\n",
       "    <tr>\n",
       "      <th>Bond</th>\n",
       "      <td>AA25D</td>\n",
       "      <td>AA25D</td>\n",
       "      <td>AA25D</td>\n",
       "      <td>AA25D</td>\n",
       "      <td>AA25D</td>\n",
       "      <td>AA25D</td>\n",
       "      <td>AA25D</td>\n",
       "      <td>AA25D</td>\n",
       "      <td>AA25D</td>\n",
       "      <td>AA25D</td>\n",
       "      <td>AA25D</td>\n",
       "      <td>AA25D</td>\n",
       "    </tr>\n",
       "    <tr>\n",
       "      <th>Price</th>\n",
       "      <td>73.22</td>\n",
       "      <td>73.22</td>\n",
       "      <td>73.22</td>\n",
       "      <td>73.22</td>\n",
       "      <td>73.22</td>\n",
       "      <td>73.22</td>\n",
       "      <td>73.22</td>\n",
       "      <td>73.22</td>\n",
       "      <td>73.22</td>\n",
       "      <td>73.22</td>\n",
       "      <td>73.22</td>\n",
       "      <td>73.22</td>\n",
       "    </tr>\n",
       "  </tbody>\n",
       "</table>\n",
       "</div>"
      ],
      "text/plain": [
       "                                1                    2                    3   \\\n",
       "Fecha de Pago  2019-10-18 00:00:00  2020-04-18 00:00:00  2020-10-18 00:00:00   \n",
       "Cash Flow                     2.88                 2.88                 2.88   \n",
       "Bond                         AA25D                AA25D                AA25D   \n",
       "Price                        73.22                73.22                73.22   \n",
       "\n",
       "                                4                    5                    6   \\\n",
       "Fecha de Pago  2021-04-18 00:00:00  2021-10-18 00:00:00  2022-04-18 00:00:00   \n",
       "Cash Flow                     2.88                 2.88                 2.88   \n",
       "Bond                         AA25D                AA25D                AA25D   \n",
       "Price                        73.22                73.22                73.22   \n",
       "\n",
       "                                7                    8                    9   \\\n",
       "Fecha de Pago  2022-10-18 00:00:00  2023-04-18 00:00:00  2023-10-18 00:00:00   \n",
       "Cash Flow                     2.88                35.88                 1.93   \n",
       "Bond                         AA25D                AA25D                AA25D   \n",
       "Price                        73.22                73.22                73.22   \n",
       "\n",
       "                                10                   11                   12  \n",
       "Fecha de Pago  2024-04-18 00:00:00  2024-10-18 00:00:00  2025-04-18 00:00:00  \n",
       "Cash Flow                    34.93                 0.98                34.98  \n",
       "Bond                         AA25D                AA25D                AA25D  \n",
       "Price                        73.22                73.22                73.22  "
      ]
     },
     "execution_count": 75,
     "metadata": {},
     "output_type": "execute_result"
    },
    {
     "name": "stdout",
     "output_type": "stream",
     "text": [
      "PAYMENTS: [Date(3,10,2019), Date(3,4,2020), Date(3,10,2020), Date(3,4,2021), Date(3,10,2021), Date(3,4,2022), Date(3,10,2022), Date(3,4,2023), Date(3,10,2023), Date(3,4,2024), Date(3,10,2024), Date(3,4,2025), Date(3,10,2025), Date(3,10,2025)]\n",
      "COUPONS: [0.26, 1.44, 1.44, 1.44, 1.44, 1.44, 1.44, 17.94, 0.96, 17.46, 0.49, 17.49, 17.49, 100.0]\n",
      "Market Price: 73.22\n",
      "YTM: 0.17270562211137716\n"
     ]
    }
   ],
   "source": [
    "# Pricing of bond\n",
    "aa25d = df[df.Bond=='AA25D']\n",
    "\n",
    "calendar = ql.Argentina()\n",
    "dayCount = ql.Thirty360()\n",
    "compounding = ql.Compounded\n",
    "\n",
    "compounding = ql.Compounded\n",
    "compoundingFrequency = ql.Semiannual\n",
    "tenor = ql.Period(compoundingFrequency)\n",
    "faceValue = 100\n",
    "settlementDays = 0\n",
    "\n",
    "coupons = [x/100 for x in aa25d['Cash Flow']]\n",
    "schedule = ql.Schedule(ql.Date(18, 10, 2019), ql.Date(18, 4, 2025), tenor, calendar, \n",
    "                       ql.Unadjusted, ql.Unadjusted, ql.DateGeneration.Backward, False)\n",
    "\n",
    "b = ql.FixedRateBond(settlementDays, calendar, faceValue, ql.Date(1, 9, 2019), ql.Date(3, 10, 2025), tenor, coupons, \n",
    "                     dayCount, ql.Unadjusted, ql.Unadjusted)\n",
    "\n",
    "market_price = aa25d['Price'].values[0]\n",
    "\n",
    "# DEBERIA DAR: 14.95%\n",
    "aa25d.T\n",
    "print ('PAYMENTS:', [cf.date() for cf in b.cashflows()])\n",
    "print ('COUPONS:', [round(cf.amount(),2) for cf in b.cashflows()])\n",
    "print ('Market Price:', market_price)\n",
    "\n",
    "ytm = b.bondYield(market_price, dayCount, compounding, compoundingFrequency)\n",
    "print ('YTM:', ytm)"
   ]
  },
  {
   "cell_type": "code",
   "execution_count": null,
   "metadata": {},
   "outputs": [],
   "source": []
  },
  {
   "cell_type": "code",
   "execution_count": null,
   "metadata": {},
   "outputs": [],
   "source": []
  },
  {
   "cell_type": "code",
   "execution_count": null,
   "metadata": {},
   "outputs": [],
   "source": []
  }
 ],
 "metadata": {
  "kernelspec": {
   "display_name": "Python 3",
   "language": "python",
   "name": "python3"
  },
  "language_info": {
   "codemirror_mode": {
    "name": "ipython",
    "version": 3
   },
   "file_extension": ".py",
   "mimetype": "text/x-python",
   "name": "python",
   "nbconvert_exporter": "python",
   "pygments_lexer": "ipython3",
   "version": "3.6.5"
  }
 },
 "nbformat": 4,
 "nbformat_minor": 2
}
