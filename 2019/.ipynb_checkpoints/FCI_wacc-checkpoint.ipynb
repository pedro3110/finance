{
 "cells": [
  {
   "cell_type": "code",
   "execution_count": 76,
   "metadata": {},
   "outputs": [],
   "source": [
    "import seaborn as sns; sns.set()\n",
    "import matplotlib.pyplot as plt\n",
    "import numpy as np\n",
    "import pandas as pd\n",
    "import random\n",
    "\n",
    "import pymc3 as pm\n",
    "import warnings\n",
    "warnings.filterwarnings(\"ignore\")"
   ]
  },
  {
   "cell_type": "code",
   "execution_count": 78,
   "metadata": {},
   "outputs": [],
   "source": [
    "d_v = np.linspace(0, 1, 100)\n",
    "d_v = np.array([0.1 * i for i in range(10)])\n",
    "e_v = [np.round(1 - x, 3) for x in d_v]\n",
    "d_e = d_v / e_v"
   ]
  },
  {
   "cell_type": "code",
   "execution_count": 89,
   "metadata": {},
   "outputs": [
    {
     "name": "stderr",
     "output_type": "stream",
     "text": [
      "Only 10 samples in chain.\n",
      "Auto-assigning NUTS sampler...\n",
      "Initializing NUTS using jitter+adapt_diag...\n",
      "Multiprocess sampling (2 chains in 2 jobs)\n",
      "NUTS: [noise]\n",
      "Sampling 2 chains: 100%|██████████| 1020/1020 [00:00<00:00, 2066.13draws/s]\n"
     ]
    }
   ],
   "source": [
    "# Sample cost of debt from distribution\n",
    "with pm.Model():\n",
    "    noise = pm.Normal('noise', mu=0, sigma=0.1)\n",
    "    trace = [x['noise'] for x in pm.sample(len(d_v))]\n",
    "    \n",
    "    trace = sorted(trace)\n",
    "    r_d = np.array([0.06 + e for e in trace])\n",
    "\n",
    "# Assume constante cost of debt\n",
    "# r_d = np.array([0.06 for_ in d_v])"
   ]
  },
  {
   "cell_type": "code",
   "execution_count": 90,
   "metadata": {},
   "outputs": [],
   "source": [
    "# Cost of capital: r = r_d * d/v + r_e * e/v\n",
    "r = 0.0984\n",
    "tax_shield = .35\n",
    "r_e = r + (r - r_d) * d_e\n",
    "wacc = r_d * (1 - tax_shield) * d_v + r_e * e_v\n",
    "df = pd.DataFrame(data={\n",
    "    'd_v': d_v, 'e_v': e_v, 'd_e': d_e, 'r_d': r_d, 'r_e': r_e, 'wacc': wacc\n",
    "})\n",
    "fig, ax = plt.subplots(figsize=(20, 5), ncols=2, nrows=1)\n",
    "sns.scatterplot(data=df, x=d_e, y=r_d, ax=ax[0])\n",
    "sns.scatterplot(data=df, x=d_e, y=wacc, ax=ax[1])\n",
    "sns.scatterplot(data=df, x=d_e, y=r_e, ax=ax[1])"
   ]
  },
  {
   "cell_type": "code",
   "execution_count": null,
   "metadata": {},
   "outputs": [],
   "source": []
  }
 ],
 "metadata": {
  "kernelspec": {
   "display_name": "Python 3",
   "language": "python",
   "name": "python3"
  },
  "language_info": {
   "codemirror_mode": {
    "name": "ipython",
    "version": 3
   },
   "file_extension": ".py",
   "mimetype": "text/x-python",
   "name": "python",
   "nbconvert_exporter": "python",
   "pygments_lexer": "ipython3",
   "version": "3.6.5"
  }
 },
 "nbformat": 4,
 "nbformat_minor": 2
}
