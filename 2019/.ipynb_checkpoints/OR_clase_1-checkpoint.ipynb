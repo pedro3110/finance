{
 "cells": [
  {
   "cell_type": "code",
   "execution_count": 38,
   "metadata": {},
   "outputs": [],
   "source": [
    "import numpy as np\n",
    "from scipy import optimize\n",
    "import pandas as pd\n",
    "from datetime import datetime, timedelta\n",
    "import matplotlib.pyplot as plt\n",
    "import math\n",
    "import seaborn as sns\n",
    "sns.set()\n",
    "\n",
    "import scipy.optimize"
   ]
  },
  {
   "cell_type": "markdown",
   "metadata": {},
   "source": [
    "### Modelo 1"
   ]
  },
  {
   "cell_type": "code",
   "execution_count": 9,
   "metadata": {},
   "outputs": [],
   "source": [
    "def π_get(price, up, down, r_f):\n",
    "    return np.round(scipy.optimize.newton(lambda π: (π*up + (1-π)*down) / (1 + r_f) - price, 0.5), 4)\n",
    "def price_get(π, up, down, r_f):\n",
    "    return np.round((π*up + (1-π)*down) / (1 + r_f), 4)"
   ]
  },
  {
   "cell_type": "code",
   "execution_count": 190,
   "metadata": {},
   "outputs": [
    {
     "name": "stdout",
     "output_type": "stream",
     "text": [
      "π:  0.4\n",
      "p1=> 275.6  p2=> 59.6 p3: 0\n",
      "Price equity:  100.0\n",
      "-4.0\n"
     ]
    }
   ],
   "source": [
    "# A.65.a (41)\n",
    "costo_proyecto = 104\n",
    "π = π_get(100, 180, 60, 0.08)\n",
    "A = price_get(π, 324, 108, 0.08)\n",
    "B = price_get(π, 108, 36, 0.08)\n",
    "price = price_get(π, A, B, 0.08)\n",
    "print('π: ', π)\n",
    "print('p1=>',str(p1),' p2=>',str(np.round(p2,2)),'p3:',str(p3))\n",
    "print('Price equity: ', price)\n",
    "\n",
    "valor_proyecto = price - costo_proyecto\n",
    "print(valor_proyecto)"
   ]
  },
  {
   "cell_type": "code",
   "execution_count": 191,
   "metadata": {},
   "outputs": [
    {
     "name": "stdout",
     "output_type": "stream",
     "text": [
      "π:  0.4\n",
      "p1:  275.6  p2:  59.6 p3:  0\n",
      "Price equity:  62.332\n",
      "Valor p/ equity:  -1.668\n",
      "Valor de financial flexibility:  2.332\n"
     ]
    }
   ],
   "source": [
    "# A.65.b (41)\n",
    "π = π_get(100, 180, 60, 0.08) # => volatilidad alta: 100=>[60,180]\n",
    "debt = 40\n",
    "debt_notional = debt * 1.1 ** 2\n",
    "\n",
    "# aca gana el equity: al aumentar 'debt', el proyecto le es menos costoso al equity\n",
    "# esto es parcialmente compensado por el hecho que debt_notional va a ser mayor. Pero será lo suficientemente mayor? \n",
    "# cómo pricearlo? (por ahora, método simplista, en el cuál el equity se morfa a la deuda)\n",
    "# la deuda se aviva de hacer un FAIR VALUATION?\n",
    "# => Hay rational expectations aca? NO. No se aviva de las implicancias del riesgo del proyecto\n",
    "costo_para_equity = costo_proyecto - debt\n",
    "\n",
    "p1 = max(324 - debt_notional, 0)\n",
    "p2 = max(108 - debt_notional, 0)\n",
    "p3 = max(36 - debt_notional, 0)\n",
    "A = price_get(π, p1, p2, 0.08)\n",
    "B = price_get(π, p2, p3, 0.08)\n",
    "price = price_get(π, A, B, 0.08)\n",
    "print('π: ', π)\n",
    "print('p1: ',str(p1),' p2: ',str(np.round(p2,2)),'p3: ',str(p3))\n",
    "print('Price equity: ', price)\n",
    "\n",
    "valor_para_equity = price - costo_para_equity\n",
    "print('Valor p/ equity: ', np.round(valor_para_equity, 4))\n",
    "print('Valor de financial flexibility: ', np.round(valor_para_equity - valor_proyecto, 4))"
   ]
  },
  {
   "cell_type": "code",
   "execution_count": 193,
   "metadata": {},
   "outputs": [
    {
     "name": "stdout",
     "output_type": "stream",
     "text": [
      "π:  0.4\n",
      "p1:  251.4  p2:  35.4 p3:  0\n",
      "Price equity:  49.0535\n",
      "Valor p/ equity:  5.0535\n",
      "Valor de financial flexibility:  9.0535\n"
     ]
    }
   ],
   "source": [
    "# A.41.c\n",
    "π = π_get(100, 180, 60, 0.08)\n",
    "debt = 60\n",
    "debt_notional = debt * 1.1 ** 2 # => costo de la deuda cte. (la deuda no se está avivando)\n",
    "costo_para_equity = costo_proyecto - debt\n",
    "\n",
    "p1 = max(324 - debt_notional, 0)\n",
    "p2 = max(108 - debt_notional, 0)\n",
    "p3 = max(36 - debt_notional, 0)\n",
    "A = price_get(π, p1, p2, 0.08)\n",
    "B = price_get(π, p2, p3, 0.08)\n",
    "price = price_get(π, A, B, 0.08)\n",
    "print('π: ', π)\n",
    "print('p1: ',str(np.round(p1,2)),' p2: ',str(np.round(p2,2)),'p3: ',str(p3))\n",
    "print('Price equity: ', price)\n",
    "\n",
    "valor_para_equity = price - costo_para_equity\n",
    "print('Valor p/ equity: ', np.round(valor_para_equity, 4))\n",
    "print('Valor de financial flexibility: ', np.round(valor_para_equity - valor_proyecto, 4))"
   ]
  },
  {
   "cell_type": "code",
   "execution_count": null,
   "metadata": {},
   "outputs": [],
   "source": [
    "# Conclusión: si una opción real aumenta el valor a un proyecto, es porque en algún lado hay una asimetría.\n",
    "# => le transferís la negatividad del proyecto a otro jugador\n",
    "# => le pasas el downside risk a la deuda y te quedas con el upside\n",
    "# => "
   ]
  },
  {
   "cell_type": "markdown",
   "metadata": {},
   "source": [
    "### Modelo 2"
   ]
  },
  {
   "cell_type": "code",
   "execution_count": 197,
   "metadata": {},
   "outputs": [
    {
     "name": "stdout",
     "output_type": "stream",
     "text": [
      "r_variance:  0.2493370358199391\n",
      "Valor spot deuda:  56.074400000000004\n",
      "Valor en maturity deuda:  77.75624000000002\n",
      "Yield debt:  0.38666200619177404\n",
      "Expected return equity:  0.15003495356169583\n",
      "Valor hoy equity:  14.018600000000001\n",
      "Volatilidad retornos equity:  1.150034954092876\n",
      "Valor hoy deuda:  56.074400000000004\n",
      "0.38666200619177404 -0.28666200619177384 0.05\n",
      "Volatilidad retornos deuda:  0.33666200619177394\n"
     ]
    }
   ],
   "source": [
    "# [75/88] Equity vs. Debt\n",
    "# NOTA: Todo esto es a un año. Se podría generalizar a N años\n",
    "# Suponemos que la cía es twin de un sintético (para usar martingalas)\n",
    "# Suponemos total racionalidad, informacion completa, equilibrio general\n",
    "# Deuda reacciona ante leverage: deuda fairly valued: según el nivel de financiación, la deuda es endógena, al aumentar leverage\n",
    "# se pricea (se lleva la esperanza matemática justa)\n",
    "# Exógeno: retorno esperado del mercado s&p (r_P), \n",
    "# Endógeno: principal de la deuda, \n",
    "r_P = 0.07\n",
    "up = 110\n",
    "down = 40\n",
    "r_f = 0.05\n",
    "π = 0.5\n",
    "\n",
    "# NPV (equity + deuda)\n",
    "valor_de_mercado = np.round((π * up + π * down) / (1 + r_P), 3)\n",
    "\n",
    "r_up = up / valor_de_mercado - 1\n",
    "r_down = down / valor_de_mercado - 1\n",
    "r_expected = np.round(π * r_up + π * r_down, 3)\n",
    "r_variance = π * (r_up - r_expected)**2 + π * (r_down - r_expected)**2\n",
    "print('r_variance: ', str(r_variance))\n",
    "\n",
    "percentage_equity = 0.2\n",
    "percentage_debt = 1 - percentage_equity\n",
    "\n",
    "# x = nocional de la deuda\n",
    "# vhd = valor spot (hoy) de la deuda\n",
    "vhd = percentage_debt * valor_de_mercado\n",
    "\n",
    "# principal_debt: nocional en maturity (enogeneiza el nocional)\n",
    "# Solver: debe suceder que vhd = esperanza del principal de la deuda (utilizando x como endógena)\n",
    "principal_debt = scipy.optimize.newton(lambda x: (π * min(up, x) + π * min(down, x)) / (1+r_f) - vhd, 0)\n",
    "print('Valor spot deuda: ', vhd)\n",
    "print('Valor en maturity deuda: ', principal_debt)\n",
    "\n",
    "yield_debt = principal_debt / vhd - 1\n",
    "# Yield de la deuda: es ENDGÓGENO: el equity no lo controla.\n",
    "print('Yield debt: ', yield_debt)\n",
    "\n",
    "# Valor hoy del equity: Exógeno\n",
    "vhe = percentage_equity * valor_de_mercado\n",
    "principal_equity = π * max(0, up-principal_debt) + π * max(0, down-principal_debt) # CF del equity a 1 año (x esperanza matem.)\n",
    "\n",
    "# Yield del equity: Endógeno (viene del principal_debt)\n",
    "r_e_expected = principal_equity / vhe - 1\n",
    "print('Expected return equity: ', r_e_expected)\n",
    "\n",
    "# Valor hoy equity\n",
    "print('Valor hoy equity: ', vhe)\n",
    "\n",
    "# Volatilidad retornos equity\n",
    "r1 = max(0, up-principal_debt) / vhe - 1\n",
    "r2 = max(0, (down-principal_debt)) / vhe - 1\n",
    "r3 = np.round(π * r1 + π * r2, 3)\n",
    "r4 = π * (r1 - r3)**2 + π * (r2 - r3)**2\n",
    "# print(r1, r2, r3)\n",
    "print('Volatilidad retornos equity: ', math.sqrt(r4))\n",
    "\n",
    "# Valor hoy deuda\n",
    "print('Valor hoy deuda: ', vhd)\n",
    "\n",
    "# Volatilidad retornos deuda\n",
    "r1 = min(up, principal_debt) / vhd - 1\n",
    "r2 = min(down, principal_debt) / vhd - 1\n",
    "r3 = np.round(π * r1 + π * r2, 3)\n",
    "r4 = π * (r1 - r3)**2 + π * (r2 - r3)**2\n",
    "print(r1, r2, r3)\n",
    "print('Volatilidad retornos deuda: ', math.sqrt(r4))"
   ]
  },
  {
   "cell_type": "code",
   "execution_count": 137,
   "metadata": {},
   "outputs": [
    {
     "name": "stdout",
     "output_type": "stream",
     "text": [
      "Valor spot deuda:  83.8096\n",
      "Valor en maturity deuda:  88.00008000000001\n",
      "Yield debt:  0.050000000000000044\n",
      "Expected return equity:  0.049995227277065624\n",
      "Valor hoy equity:  20.9524\n",
      "Volatilidad retornos equity:  4.772722934379137e-06\n",
      "Valor hoy deuda:  83.8096\n",
      "Volatilidad retornos deuda:  4.163336342344337e-17\n"
     ]
    }
   ],
   "source": [
    "# [80/160] Equity vs. Debt (continuación)\n",
    "# IDEA: Variar la estructura del capital (Equity / Debt)\n",
    "r_P = 0.05\n",
    "up = 110\n",
    "down = 110\n",
    "r_f = 0.05 # => como up==down, debe ser r_P == r_f\n",
    "π = 0.5\n",
    "\n",
    "# NPV (equity + deuda)\n",
    "valor_de_mercado = np.round((π * up + π * down) / (1 + r_P), 3)\n",
    "\n",
    "r_up = up / valor_de_mercado - 1\n",
    "r_down = down / valor_de_mercado - 1\n",
    "r_expected = np.round(π * r_up + π * r_down, 3)\n",
    "r_variance = π * (r_up - r_expected)**2 + π * (r_down - r_expected)**2\n",
    "\n",
    "percentage_equity = 0.2\n",
    "percentage_debt = 1 - percentage_equity\n",
    "\n",
    "# x = nocional de la deuda\n",
    "# vhd = valor spot (hoy) de la deuda\n",
    "vhd = percentage_debt * valor_de_mercado\n",
    "\n",
    "# principal_debt: nocional en maturity (enogeneiza el nocional)\n",
    "# Solver: debe suceder que vhd = esperanza del principal de la deuda (utilizando x como endógena)\n",
    "principal_debt = scipy.optimize.newton(lambda x: (π * min(up, x) + π * min(down, x)) / (1+r_f) - vhd, 0)\n",
    "print('Valor spot deuda: ', vhd)\n",
    "print('Valor en maturity deuda: ', principal_debt)\n",
    "\n",
    "yield_debt = principal_debt / vhd - 1\n",
    "# Yield de la deuda: es ENDGÓGENO: el equity no lo controla.\n",
    "print('Yield debt: ', yield_debt)\n",
    "\n",
    "# Valor hoy del equity: Exógeno\n",
    "vhe = percentage_equity * valor_de_mercado\n",
    "principal_equity = π * max(0, up-principal_debt) + π * max(0, down-principal_debt) # CF del equity a 1 año (x esperanza matem.)\n",
    "\n",
    "# Yield del equity: Endógeno (viene del principal_debt)\n",
    "r_e_expected = principal_equity / vhe - 1\n",
    "print('Expected return equity: ', r_e_expected)\n",
    "\n",
    "# Valor hoy equity\n",
    "print('Valor hoy equity: ', vhe)\n",
    "\n",
    "# Volatilidad retornos equity\n",
    "r1 = max(0, up-principal_debt) / vhe - 1\n",
    "r2 = max(0, (down-principal_debt)) / vhe - 1\n",
    "r3 = np.round(π * r1 + π * r2, 3)\n",
    "r4 = π * (r1 - r3)**2 + π * (r2 - r3)**2\n",
    "print('Volatilidad retornos equity: ', math.sqrt(r4))\n",
    "\n",
    "# Valor hoy deuda\n",
    "print('Valor hoy deuda: ', vhd)\n",
    "\n",
    "# Volatilidad retornos deuda\n",
    "r1 = min(up, principal_debt) / vhd - 1\n",
    "r2 = min(down, principal_debt) / vhd - 1\n",
    "r3 = np.round(π * r1 + π * r2, 3)\n",
    "r4 = π * (r1 - r3)**2 + π * (r2 - r3)**2\n",
    "print('Volatilidad retornos deuda: ', math.sqrt(r4))"
   ]
  },
  {
   "cell_type": "code",
   "execution_count": null,
   "metadata": {},
   "outputs": [],
   "source": [
    "# [80-90/160] NOTAS\n",
    "# principal de la deuda < down node (deuda libre de riesgo?)\n",
    "# equity no se lleva lo mismo en ambos escenarios. Equity es más riesgoso que la deuda\n",
    "# a mayor debt/equity, el retorno esperado del equity crece (mayor palanca) para el riesgo, deuda siempre es libre de riesgo (dependiend up/down nodes)\n",
    "\n",
    "# Si la deuda es defaulteable (no libre de riesgo), el yield de la deuda va a subir. En el grafico de f(debt/equity) = ret_equity,\n",
    "# hay un punto en el cual la deuda empieza a pedir cada vez más, hasta que en un momento pide más yield que el equity.\n",
    "\n",
    "# Conclusión: NO SIEMPRE PASA QUE ANTE AUMENTO EN EL APALANCAMIENTO GANA EL EQUITY. HAY QUE VER CUÁL ES EL MODELO\n",
    "# => en estos modelos: DADOS LOS PARÁMETROS, PUEDO MEDIR EL RIESGO DE DEFAULT"
   ]
  },
  {
   "cell_type": "code",
   "execution_count": 182,
   "metadata": {},
   "outputs": [],
   "source": [
    "# [76/88] \n",
    "# Hay una empresa con equity y deuda. Viene un nuevo proyecto. A quién le conviene qué tipo de proyecto? Riesgoso o no riesgoso?\n",
    "# variable endógena => fairly valued (lo podés calcular). A nivel esperanza matemática te cobré todo.\n",
    "# deuda_original = y; deuda_nueva = x => %_nueva_deuda = x/(x+y) => se repartirán par y paso?\n",
    "# f = x / (x+y)\n",
    "# f_obj: si hay plata te llevas x y sino, a prorata"
   ]
  },
  {
   "cell_type": "code",
   "execution_count": 183,
   "metadata": {},
   "outputs": [],
   "source": [
    "# [46/160]\n",
    "# "
   ]
  },
  {
   "cell_type": "code",
   "execution_count": null,
   "metadata": {},
   "outputs": [],
   "source": []
  },
  {
   "cell_type": "code",
   "execution_count": null,
   "metadata": {},
   "outputs": [],
   "source": []
  },
  {
   "cell_type": "code",
   "execution_count": null,
   "metadata": {},
   "outputs": [],
   "source": []
  },
  {
   "cell_type": "code",
   "execution_count": null,
   "metadata": {},
   "outputs": [],
   "source": []
  },
  {
   "cell_type": "code",
   "execution_count": null,
   "metadata": {},
   "outputs": [],
   "source": []
  }
 ],
 "metadata": {
  "kernelspec": {
   "display_name": "Python 3",
   "language": "python",
   "name": "python3"
  },
  "language_info": {
   "codemirror_mode": {
    "name": "ipython",
    "version": 3
   },
   "file_extension": ".py",
   "mimetype": "text/x-python",
   "name": "python",
   "nbconvert_exporter": "python",
   "pygments_lexer": "ipython3",
   "version": "3.6.5"
  }
 },
 "nbformat": 4,
 "nbformat_minor": 2
}
