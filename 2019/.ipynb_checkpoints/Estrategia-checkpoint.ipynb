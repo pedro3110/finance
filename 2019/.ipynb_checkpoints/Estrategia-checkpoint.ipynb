{
 "cells": [
  {
   "cell_type": "code",
   "execution_count": null,
   "metadata": {},
   "outputs": [],
   "source": []
  },
  {
   "cell_type": "code",
   "execution_count": null,
   "metadata": {},
   "outputs": [],
   "source": []
  },
  {
   "cell_type": "code",
   "execution_count": 16,
   "metadata": {},
   "outputs": [],
   "source": [
    "import matplotlib.pyplot as plt\n",
    "import seaborn as sns\n",
    "sns.set()\n",
    "\n",
    "import quandl\n",
    "# key: EA4BkTHPjpgpAhEW-Py_"
   ]
  },
  {
   "cell_type": "code",
   "execution_count": 25,
   "metadata": {},
   "outputs": [],
   "source": [
    "# z = quandl.get(\"WPSD/USA_DP_DOD_DLLO_CR_CG_CD\").reset_index()\n",
    "# sns.lineplot(x='Date', y='Value', data=z)\n",
    "\n",
    "# z = quandl.get(\"MULTPL/SP500_DIV_GROWTH_QUARTER\", authtoken=\"EA4BkTHPjpgpAhEW-Py_\").reset_index()\n",
    "# fig, ax = plt.subplots(figsize=(10, 5), ncols=1, nrows=1)\n",
    "# sns.lineplot(x='Date', y='Value', data=z, ax=ax)"
   ]
  },
  {
   "cell_type": "code",
   "execution_count": 26,
   "metadata": {},
   "outputs": [],
   "source": [
    "# pmi = quandl.get(\"ISM/MAN_PMI\")\n",
    "# pmi = pmi.reset_index()\n",
    "# fig, ax = plt.subplots(figsize=(10, 5), ncols=1, nrows=1)\n",
    "# sns.lineplot(x='Date', y='PMI', data=pmi[pmi.Date.dt.year >= 2008], ax=ax)\n"
   ]
  },
  {
   "cell_type": "code",
   "execution_count": 59,
   "metadata": {},
   "outputs": [
    {
     "data": {
      "text/html": [
       "<div>\n",
       "<style scoped>\n",
       "    .dataframe tbody tr th:only-of-type {\n",
       "        vertical-align: middle;\n",
       "    }\n",
       "\n",
       "    .dataframe tbody tr th {\n",
       "        vertical-align: top;\n",
       "    }\n",
       "\n",
       "    .dataframe thead th {\n",
       "        text-align: right;\n",
       "    }\n",
       "</style>\n",
       "<table border=\"1\" class=\"dataframe\">\n",
       "  <thead>\n",
       "    <tr style=\"text-align: right;\">\n",
       "      <th></th>\n",
       "      <th>id</th>\n",
       "      <th>title</th>\n",
       "      <th>description</th>\n",
       "      <th>units</th>\n",
       "      <th>scale</th>\n",
       "    </tr>\n",
       "  </thead>\n",
       "  <tbody>\n",
       "    <tr>\n",
       "      <th>0</th>\n",
       "      <td>BCA</td>\n",
       "      <td>Current account balance (U.S. dollars)</td>\n",
       "      <td>Current account is all transactions other than...</td>\n",
       "      <td>U.S. dollars</td>\n",
       "      <td>Billions</td>\n",
       "    </tr>\n",
       "    <tr>\n",
       "      <th>1</th>\n",
       "      <td>BCA_NGDPD</td>\n",
       "      <td>Current account balance (Percent of GDP)</td>\n",
       "      <td>Current account is all transactions other than...</td>\n",
       "      <td>Percent of GDP</td>\n",
       "      <td>NaN</td>\n",
       "    </tr>\n",
       "    <tr>\n",
       "      <th>2</th>\n",
       "      <td>FLIBOR6</td>\n",
       "      <td>Six-month London interbank offered rate (LIBOR...</td>\n",
       "      <td>NaN</td>\n",
       "      <td>Percent</td>\n",
       "      <td>NaN</td>\n",
       "    </tr>\n",
       "    <tr>\n",
       "      <th>3</th>\n",
       "      <td>GGR</td>\n",
       "      <td>General government revenue (National currency)</td>\n",
       "      <td>Revenue consists of taxes, social contribution...</td>\n",
       "      <td>National currency</td>\n",
       "      <td>Billions</td>\n",
       "    </tr>\n",
       "    <tr>\n",
       "      <th>4</th>\n",
       "      <td>GGR_NGDP</td>\n",
       "      <td>General government revenue (Percent of GDP)</td>\n",
       "      <td>Revenue consists of taxes, social contribution...</td>\n",
       "      <td>Percent of GDP</td>\n",
       "      <td>NaN</td>\n",
       "    </tr>\n",
       "  </tbody>\n",
       "</table>\n",
       "</div>"
      ],
      "text/plain": [
       "          id                                              title  \\\n",
       "0        BCA             Current account balance (U.S. dollars)   \n",
       "1  BCA_NGDPD           Current account balance (Percent of GDP)   \n",
       "2    FLIBOR6  Six-month London interbank offered rate (LIBOR...   \n",
       "3        GGR     General government revenue (National currency)   \n",
       "4   GGR_NGDP        General government revenue (Percent of GDP)   \n",
       "\n",
       "                                         description              units  \\\n",
       "0  Current account is all transactions other than...       U.S. dollars   \n",
       "1  Current account is all transactions other than...     Percent of GDP   \n",
       "2                                                NaN            Percent   \n",
       "3  Revenue consists of taxes, social contribution...  National currency   \n",
       "4  Revenue consists of taxes, social contribution...     Percent of GDP   \n",
       "\n",
       "      scale  \n",
       "0  Billions  \n",
       "1       NaN  \n",
       "2       NaN  \n",
       "3  Billions  \n",
       "4       NaN  "
      ]
     },
     "execution_count": 59,
     "metadata": {},
     "output_type": "execute_result"
    }
   ],
   "source": [
    "weo_indicators.head()"
   ]
  },
  {
   "cell_type": "markdown",
   "metadata": {},
   "source": [
    "## Drivers of P+l in curve trades \n",
    "* Time: carry + roll\n",
    "* Sensitivity to spread changes: duration + convexity. Analyze parallel spread changes\n",
    "* Default risk: exposure to underlying credit risk\n",
    "* Breakevens and expected curve movements: put together our expectations of curve movements and our 'breakeven' levels"
   ]
  },
  {
   "cell_type": "code",
   "execution_count": 55,
   "metadata": {},
   "outputs": [
    {
     "name": "stdout",
     "output_type": "stream",
     "text": [
      "[['BCA', 'Current account balance (U.S. dollars)'], ['BCA_NGDPD', 'Current account balance (Percent of GDP)'], ['FLIBOR6', 'Six-month London interbank offered rate (LIBOR) (Percent)'], ['GGR', 'General government revenue (National currency)'], ['GGR_NGDP', 'General government revenue (Percent of GDP)'], ['GGSB', 'General government structural balance (National currency)'], ['GGSB_NPGDP', 'General government structural balance (Percent of potential GDP)'], ['GGX', 'General government total expenditure (National currency)'], ['GGXCNL', 'General government net lending/borrowing (National currency)'], ['GGXCNL_NGDP', 'General government net lending/borrowing (Percent of GDP)'], ['GGXONLB', 'General government primary net lending/borrowing (National currency)'], ['GGXONLB_NGDP', 'General government primary net lending/borrowing (Percent of GDP)'], ['GGXWDG', 'General government gross debt (National currency)'], ['GGXWDG_NGDP', 'General government gross debt (Percent of GDP)'], ['GGXWDN', 'General government net debt (National currency)'], ['GGXWDN_NGDP', 'General government net debt (Percent of GDP)'], ['GGX_NGDP', 'General government total expenditure (Percent of GDP)'], ['LE', 'Employment (Persons)'], ['LP', 'Population (Persons)'], ['LUR', 'Unemployment rate (Percent of total labor force)'], ['NGAP_NPGDP', 'Output gap in percent of potential GDP (Percent of potential GDP)'], ['NGDP', 'Gross domestic product, current prices (National currency)'], ['NGDPD', 'Gross domestic product, current prices (U.S. dollars)'], ['NGDPDPC', 'Gross domestic product per capita, current prices (U.S. dollars)'], ['NGDPPC', 'Gross domestic product per capita, current prices (National currency)'], ['NGDPRPC', 'Gross domestic product per capita, constant prices (National currency)'], ['NGDP_D', 'Gross domestic product, deflator (Index)'], ['NGDP_FY', 'Gross domestic product corresponding to fiscal year, current prices (National currency)'], ['NGDP_R', 'Gross domestic product, constant prices (National currency)'], ['NGDP_RPCH', 'Gross domestic product, constant prices (Percent change)'], ['NGSD_NGDP', 'Gross national savings (Percent of GDP)'], ['NID_NGDP', 'Total investment (Percent of GDP)'], ['PCPI', 'Inflation, average consumer prices (Index)'], ['PCPIE', 'Inflation, end of period consumer prices (Index)'], ['PCPIEPCH', 'Inflation, end of period consumer prices (Percent change)'], ['PCPIPCH', 'Inflation, average consumer prices (Percent change)'], ['PPPEX', 'Implied PPP conversion rate (National currency per current international dollar)'], ['PPPGDP', 'Gross domestic product based on purchasing-power-parity (PPP) valuation of country GDP (Current international dollar)'], ['PPPPC', 'Gross domestic product based on purchasing-power-parity (PPP) per capita GDP (Current international dollar)'], ['PPPSH', 'Gross domestic product based on purchasing-power-parity (PPP) share of world total (Percent)'], ['TMG_RPCH', 'Volume of Imports of goods (Percent change)'], ['TM_RPCH', 'Volume of imports of goods and services (Percent change)'], ['TXG_RPCH', 'Volume of exports of goods (Percent change)'], ['TX_RPCH', 'Volume of exports of goods and services (Percent change)']]\n"
     ]
    }
   ],
   "source": [
    "# Analizar GOLD 4.000 en 2021 (???)\n",
    "import pandas as pd\n",
    "weo_indicators = pd.read_csv('data-weo/indicators.csv', index_col=False)\n",
    "weo_countries  = pd.read_csv('data-weo/country.csv', index_col=False)\n",
    "weo_values = pd.read_csv('data-weo/values.csv', index_col=False)\n",
    "\n",
    "# ARG: 213\n",
    "print(weo_indicators[['id', 'title']].values.tolist())"
   ]
  },
  {
   "cell_type": "code",
   "execution_count": 66,
   "metadata": {},
   "outputs": [
    {
     "data": {
      "text/plain": [
       "Text(0.5, 1.0, 'Unemployment rate (Percent of total labor force)')"
      ]
     },
     "execution_count": 66,
     "metadata": {},
     "output_type": "execute_result"
    },
    {
     "data": {
      "image/png": "[encoded data removed]",
      "text/plain": [
       "<Figure size 1080x360 with 1 Axes>"
      ]
     },
     "metadata": {},
     "output_type": "display_data"
    }
   ],
   "source": [
    "indicator = 'LUR' # NGDPD, TX_RPCH\n",
    "country = 'USA'\n",
    "\n",
    "vals = weo_values[(weo_values.Country==country)&(weo_values.Indicator==indicator)]\n",
    "vals.Value = vals.Value.astype(float)\n",
    "\n",
    "fig, ax = plt.subplots(figsize=(15, 5), ncols=1, nrows=1)\n",
    "sns.lineplot(x='Year', y='Value', data=vals, ax=ax)\n",
    "ax.set_title(str(weo_indicators[weo_indicators.id==indicator][['title', 'units']].values[0][0]))"
   ]
  },
  {
   "cell_type": "markdown",
   "metadata": {},
   "source": [
    "### CDS"
   ]
  },
  {
   "cell_type": "code",
   "execution_count": 143,
   "metadata": {},
   "outputs": [],
   "source": [
    "import numpy as np\n",
    "\n",
    "# ALGORITMO PARA PRICEAR CDS !!!\n",
    "# https://github.com/bakera1/CreditDefaultSwapPricer\n",
    "# https://www.cdsmodel.com/cdsmodel/\n",
    "# https://pdfs.semanticscholar.org/3db4/50b683294a7c663bc51dfec3e215b9986784.pdf\n",
    "\n",
    "# PCA on yield curve: LEVEL + SLOPE + CURVATURE = explain 95% \n",
    "#### (https://es.coursera.org/lecture/interest-rate-models/principal-component-analysis-ZHMM6)"
   ]
  },
  {
   "cell_type": "code",
   "execution_count": 150,
   "metadata": {},
   "outputs": [],
   "source": [
    "# Time\n",
    "class CDSPosition:\n",
    "    def __init__(self, side, notional, maturity, spread_curve, slide_annuity):\n",
    "        if side not in ['long', 'short']:\n",
    "            raise Exception('Error')\n",
    "        self.side = side\n",
    "        self.notional = notional\n",
    "        if self.side == 'long':\n",
    "            self.notional *= -1\n",
    "        self.maturity = maturity\n",
    "        self.spread_curve = spread_curve\n",
    "        \n",
    "        # TODO: pasar y leer bien las annuities (?)\n",
    "        self.slide_annuity = slide_annuity\n",
    "    \n",
    "    # TODO: create function from list [(maturity, spread), ...]\n",
    "    def _get_spread(self, n_years):\n",
    "        return self.spread_curve[n_years]\n",
    "    \n",
    "    # TODO: requires yield curve values (?)\n",
    "    def get_slide(self, n_years):\n",
    "        spread = self._get_spread(self.maturity) - self._get_spread(self.maturity - n_years)\n",
    "        return int(np.round(spread * self.notional * self.slide_annuity / 10000., 0))\n",
    "        \n",
    "    def get_carry(self, n_years):\n",
    "        return int(np.round(n_years * self.notional * self._get_spread(self.maturity) / 10000., 0))\n",
    "    \n",
    "class MultipleCDSPosition:\n",
    "    def __init__(self, positions):\n",
    "        self.positions = positions\n",
    "    def get_carry(self, n_years):\n",
    "        return sum([p.get_carry(n_years) for p in self.positions])\n",
    "    def get_slide(self, n_years):\n",
    "        return sum([p.get_slide(n_years) for p in self.positions])"
   ]
  },
  {
   "cell_type": "code",
   "execution_count": 154,
   "metadata": {},
   "outputs": [],
   "source": [
    "# CDS DV01 = Time to maturity x Notional x 0.0001\n",
    "\n",
    "# DV01 = Modified Duration * Market Value of the Bond * 0.0001\n",
    "# DV01 = f(Bonds Duration, current yield, change in yield) = - (chg Bond value / 10000 * chg yield)\n",
    "# ModD = DV01 / PV * 100 \n"
   ]
  },
  {
   "cell_type": "code",
   "execution_count": 151,
   "metadata": {},
   "outputs": [
    {
     "name": "stdout",
     "output_type": "stream",
     "text": [
      "6M Carry:  202000 | -177500 | 24500\n",
      "6M Slide:  14660 | -85892 | -71232\n"
     ]
    }
   ],
   "source": [
    "# Ejemplo 1\n",
    "# cds_long = CDSPosition('long', 10000000, 5, {5: 50})\n",
    "# cds_short = CDSPosition('short', 5000000, 10, {10: 90})\n",
    "# flattener = MultipleCDSPosition([cds_short, cds_long])\n",
    "# print('1Y Carry: ', cds_short.get_carry(1), '|', cds_long.get_carry(1), '|', flattener.get_carry(1))\n",
    "# print('2y Carry: ', cds_short.get_carry(2), '|', cds_long.get_carry(2), '|', flattener.get_carry(2))\n",
    "\n",
    "# Ejemplo 2\n",
    "cds_short = CDSPosition('short', 10000000, 10, {9.5: 402, 10: 404}, 7.33)\n",
    "cds_long = CDSPosition('long', 10000000, 5, {4.5: 336, 5: 355}, 4.52063)\n",
    "flattener = MultipleCDSPosition([cds_short, cds_long])\n",
    "print('6M Carry: ', cds_short.get_carry(.5), '|', cds_long.get_carry(.5), '|', flattener.get_carry(.5))\n",
    "print('6M Slide: ', cds_short.get_slide(.5), '|', cds_long.get_slide(.5), '|', flattener.get_slide(.5))"
   ]
  },
  {
   "cell_type": "code",
   "execution_count": 22,
   "metadata": {},
   "outputs": [
    {
     "name": "stdout",
     "output_type": "stream",
     "text": [
      "1Y Carry:  202000.0 | -355000.0 | -153000.0\n",
      "2y Carry:  404000.0 | -710000.0 | -306000.0\n"
     ]
    }
   ],
   "source": [
    "## Roll (o Slide)\n",
    "# generalmente la curva va hacia arriba, con lo cuál con el paso del tiempo, los yields bajan\n",
    "\n",
    "## Horizon effects\n",
    "# el delta(spread) + delta(maturity) generan un cambio en las Risk Annuities\n",
    "\n",
    "## Slide and Flat Forwards:\n",
    "\n",
    "##  Time Summary:\n",
    "# For upward-sloping curves, Carry can dominate Slide in Equal-Notional strategies, but Slide \n",
    "# tends to dominate Carry in Duration-Weighted trades\" "
   ]
  },
  {
   "cell_type": "code",
   "execution_count": null,
   "metadata": {},
   "outputs": [],
   "source": [
    "## Parallel shift of curve:\n",
    "# a +1bp impacts more in the longer maturity Risky Annuities.\n",
    "# if both legs have = notional, MTM of long(10y)&short(5y) will be negative\n",
    "# => Duration + Convexity effects must be considered to inmunize the position\n",
    "# => Duration-weighted useful for 1bp parallel move, but not for bigger moves\n",
    "\n",
    "## Breakeven\n",
    "# => from time: MTM(time) + MTM(curve) = 0\n",
    "# => for a given spread change\n",
    "# => "
   ]
  },
  {
   "cell_type": "code",
   "execution_count": null,
   "metadata": {},
   "outputs": [],
   "source": [
    "# Two legged trades\n",
    "# 1. equal notional == forward: it is the same as buying a forward CDS (default neutral in \n",
    "# first period). Se puede calcular el 5y/5y Forward Spread. Pero sí tiene riesgo de MTM.\n",
    "# Por ejemplo, ante un parallel shift, el Risky Annuity del 10y es mayor en val abs que el 5y\n",
    "\n",
    "# 2. equal notional & upward sloping: flattener => positive carry and steepener => negative carry\n",
    "# \n",
    "\n",
    "# 3. Duration Wighted\n",
    "# MTM_5y = MTM_10y ===> Ntnl_5y = (Dur_10y / Dur_5y) * Ntnl_10y\n",
    "\n"
   ]
  },
  {
   "cell_type": "code",
   "execution_count": null,
   "metadata": {},
   "outputs": [],
   "source": []
  },
  {
   "cell_type": "code",
   "execution_count": null,
   "metadata": {},
   "outputs": [],
   "source": []
  },
  {
   "cell_type": "code",
   "execution_count": null,
   "metadata": {},
   "outputs": [],
   "source": []
  }
 ],
 "metadata": {
  "kernelspec": {
   "display_name": "Python 3",
   "language": "python",
   "name": "python3"
  },
  "language_info": {
   "codemirror_mode": {
    "name": "ipython",
    "version": 3
   },
   "file_extension": ".py",
   "mimetype": "text/x-python",
   "name": "python",
   "nbconvert_exporter": "python",
   "pygments_lexer": "ipython3",
   "version": "3.6.5"
  }
 },
 "nbformat": 4,
 "nbformat_minor": 2
}
